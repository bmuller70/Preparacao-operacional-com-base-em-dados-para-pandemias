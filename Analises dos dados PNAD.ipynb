{
  "cells": [
    {
      "cell_type": "markdown",
      "metadata": {
        "id": "CEwkVoGqJNeB"
      },
      "source": [
        "# Tech Challenge Fase 3 - Grupo 5"
      ]
    },
    {
      "cell_type": "markdown",
      "metadata": {
        "id": "T_T6jSjwKHt2"
      },
      "source": [
        "## O problema:"
      ]
    },
    {
      "cell_type": "markdown",
      "metadata": {
        "id": "VcuRbCr0KCbo"
      },
      "source": [
        "Imagine agora que você foi contratado(a) como Expert em Data Analytics por um grande hospital para entender como foi o comportamento da população na época da pandemia da COVID-19 e quais indicadores seriam importantes para o planejamento, caso haja um novo surto da doença.\n",
        "\n",
        "Apesar de ser contratado(a) agora, a sua área observou que a utilização do estudo do PNAD-COVID 19 do IBGE seria uma ótima base para termos boas respostas ao problema proposto, pois são dados confiáveis. Porém, não será necessário utilizar todas as perguntas realizadas na pesquisa para enxergar todas as oportunidades ali postas.\n",
        "\n",
        "É sempre bom ressaltar que há dados triviais que precisam estar no projeto, pois auxiliam muito na análise dos dados:\n",
        "\n",
        "\n",
        "• Características clínicas dos sintomas;\n",
        "\n",
        "• Características da população;\n",
        "\n",
        "• Características econômicas da sociedade.\n",
        "\n",
        "O Head de Dados pediu para que você entrasse na base de dados do PNAD-COVID-19 do IBGE e organizasse esta base para análise, utilizando Banco de Dados em Nuvem e trazendo as seguintes características:\n",
        "\n",
        "a. Utilização de no máximo 20 questionamentos realizados na pesquisa;\n",
        "\n",
        "b. Utilizar 3 meses para construção da solução;\n",
        "\n",
        "c. Caracterização dos sintomas clínicos da população;\n",
        "\n",
        "d. Comportamento da população na época da COVID-19;\n",
        "\n",
        "e. Características econômicas da Sociedade.\n",
        "\n",
        "\n",
        "Seu objetivo será trazer uma breve análise dessas informações, como foi a organização do banco, as perguntas selecionadas para a resposta do problema e quais seriam as principais ações que o hospital deverá tomar em caso de um novo surto de COVID-19.\n",
        "\n",
        "Dica: leiam com atenção a base de dados e toda a documentação que o site do PNAD – COVID-19 traz, principalmente os dicionários, que ajudam e muito no entendimento da Base de Dados.\n",
        "\n",
        "Dica 2: utilizem o que já foi ensinado e consolidado nas outras fases para apresentar a resolução do projeto."
      ]
    },
    {
      "cell_type": "markdown",
      "metadata": {
        "id": "ACPVh3N-nMr7"
      },
      "source": [
        "## **Criação da Base para Análise**"
      ]
    },
    {
      "cell_type": "markdown",
      "metadata": {
        "id": "t81WFKiB2koi"
      },
      "source": [
        "*Bibliotecas*"
      ]
    },
    {
      "cell_type": "code",
      "execution_count": null,
      "metadata": {
        "colab": {
          "base_uri": "https://localhost:8080/"
        },
        "id": "YcXmLDyToE-l",
        "outputId": "3641c354-630c-49d3-aa13-c20e8689595f"
      },
      "outputs": [
        {
          "output_type": "stream",
          "name": "stdout",
          "text": [
            "Collecting pyspark\n",
            "  Downloading pyspark-3.5.3.tar.gz (317.3 MB)\n",
            "\u001b[2K     \u001b[90m━━━━━━━━━━━━━━━━━━━━━━━━━━━━━━━━━━━━━━━━\u001b[0m \u001b[32m317.3/317.3 MB\u001b[0m \u001b[31m3.9 MB/s\u001b[0m eta \u001b[36m0:00:00\u001b[0m\n",
            "\u001b[?25h  Preparing metadata (setup.py) ... \u001b[?25l\u001b[?25hdone\n",
            "Requirement already satisfied: py4j==0.10.9.7 in /usr/local/lib/python3.10/dist-packages (from pyspark) (0.10.9.7)\n",
            "Building wheels for collected packages: pyspark\n",
            "  Building wheel for pyspark (setup.py) ... \u001b[?25l\u001b[?25hdone\n",
            "  Created wheel for pyspark: filename=pyspark-3.5.3-py2.py3-none-any.whl size=317840625 sha256=5be63c5ee1ea9a7ed91cfff439d4b3b7a1e291b9c20462b7164430f85f9733ac\n",
            "  Stored in directory: /root/.cache/pip/wheels/1b/3a/92/28b93e2fbfdbb07509ca4d6f50c5e407f48dce4ddbda69a4ab\n",
            "Successfully built pyspark\n",
            "Installing collected packages: pyspark\n",
            "Successfully installed pyspark-3.5.3\n",
            "Collecting findspark\n",
            "  Downloading findspark-2.0.1-py2.py3-none-any.whl.metadata (352 bytes)\n",
            "Downloading findspark-2.0.1-py2.py3-none-any.whl (4.4 kB)\n",
            "Installing collected packages: findspark\n",
            "Successfully installed findspark-2.0.1\n"
          ]
        }
      ],
      "source": [
        "!pip install pyspark\n",
        "!pip install findspark"
      ]
    },
    {
      "cell_type": "code",
      "execution_count": null,
      "metadata": {
        "id": "roSBTsvPned3"
      },
      "outputs": [],
      "source": [
        "# Pandas\n",
        "import pandas as pd\n",
        "import seaborn as sns\n",
        "import matplotlib.pyplot as plt\n",
        "import numpy as np\n",
        "#Spark\n",
        "import findspark\n",
        "import pyspark\n",
        "findspark.init()\n",
        "from pyspark.sql import SparkSession\n",
        "from pyspark.sql import Row, dataframe\n",
        "from pyspark.sql.types import StructType, StringType,StructField, IntegerType\n",
        "from pyspark.sql.functions import col, lit,expr,substring,concat,concat_ws,when,coalesce\n",
        "from pyspark.sql import functions as F #para mais funções sql\n",
        "from functools import reduce\n",
        "from pyspark.sql import functions as F\n",
        "# Drive\n",
        "import google.colab\n",
        "from google.colab import drive\n",
        "drive.mount('/content/drive')"
      ]
    },
    {
      "cell_type": "code",
      "execution_count": null,
      "metadata": {
        "id": "D4uOa8uozply"
      },
      "outputs": [],
      "source": [
        "spark = SparkSession.builder \\\n",
        "    .appName(\"pandas-to-spark\") \\\n",
        "    .getOrCreate()"
      ]
    },
    {
      "cell_type": "code",
      "execution_count": null,
      "metadata": {
        "id": "wY4VzctPo_b_"
      },
      "outputs": [],
      "source": [
        "# Leitura de Base\n",
        "# df5 = spark.read.csv('/content/drive/MyDrive/Pos_tech/Tech_C/Tech_3/Dados/PNAD_COVID_052020.csv', sep=',', inferSchema = True, header = True)\n",
        "\n",
        "df7 = spark.read.csv('/content/drive/MyDrive/Pos_tech/Tech_C/Tech_3/Dados/PNAD_COVID_072020.csv', sep=',', inferSchema = True, header = True)\n",
        "df8 = spark.read.csv('/content/drive/MyDrive/Pos_tech/Tech_C/Tech_3/Dados/PNAD_COVID_082020.csv', sep=',', inferSchema = True, header = True)\n",
        "df9 = spark.read.csv('/content/drive/MyDrive/Pos_tech/Tech_C/Tech_3/Dados/PNAD_COVID_092020.csv', sep=',', inferSchema = True, header = True)\n"
      ]
    },
    {
      "cell_type": "code",
      "execution_count": null,
      "metadata": {
        "id": "-Yrq4ZC23bmM"
      },
      "outputs": [],
      "source": [
        "## Une 3 meses de análise em uma só tabela.\n",
        "\n",
        "df_total = df7.union(df8)\n",
        "df_total = df_total.union(df9)"
      ]
    },
    {
      "cell_type": "markdown",
      "metadata": {
        "id": "yKpWuU683Glg"
      },
      "source": [
        "# **1.0 : De Para - Colunas**"
      ]
    },
    {
      "cell_type": "code",
      "execution_count": null,
      "metadata": {
        "id": "lUw8-AXHt4oB"
      },
      "outputs": [],
      "source": [
        "### colunas com  foram utilizadas\n",
        "\n",
        "colunas = {\n",
        "    'v1013' : 'mes',\n",
        "    'UF' : 'estado',\n",
        "    'v1008': 'domicilio', #int de 1 a 14\n",
        "    'v1016': 'entrevista_domicilio', #int 1 a 99\n",
        "    'v1022': 'domicilio_urbano_rural',\n",
        "    'v1023': 'tipo_area',\n",
        "    'B0014': 'dificuldade_respiracao',\n",
        "    'B00111': 'perda_olfato_paladar',\n",
        "    'B0012': 'tosse',\n",
        "    'B002': 'estabelecimento_saude', ## Foi a algum estabelecimento?\n",
        "    'B0042': 'pronto_socorro_pub', ## pronto socorro que buscou atendimento?\n",
        "    'B0043': 'hospital_sus', ## local que buscou atendimento foi um hospital do sus?\n",
        "    'B0045': 'pronto_socorro_priv', ## pronto socorro privado ou das forças armadas?\n",
        "    'B0046': 'hospital_privado', # buscou hospital particular\n",
        "    'B005': 'internação',\n",
        "    'B008':'Teste_Covid',\n",
        "    'B011': 'restricao_contato',\n",
        "    'C004': 'trabalho_remunerado',\n",
        "    'B007': 'plano_saude',\n",
        "    'A002': 'idade',\n",
        "    'F001': 'situacao_domicilio',\n",
        "    'B009A': 'exame_swab',\n",
        "    'B009B': 'resultado_swab',\n",
        "    'B009C': 'exame_sangue_dedo',\n",
        "    'B009D': 'resultado_sangue_dedo',\n",
        "    'B009E': 'exame_sangue_braco',\n",
        "    'B009F': 'resultado_sangue_braco'\n",
        "}"
      ]
    },
    {
      "cell_type": "code",
      "execution_count": null,
      "metadata": {
        "id": "NX6AGj_tuAhz"
      },
      "outputs": [],
      "source": [
        "## Renomeia colunas para melhor leitura.\n",
        "for old_name, new_name in colunas.items():\n",
        "    df_total = df_total.withColumnRenamed(old_name, new_name)"
      ]
    },
    {
      "cell_type": "code",
      "execution_count": null,
      "metadata": {
        "id": "tgMBVBNR4x57"
      },
      "outputs": [],
      "source": [
        "# Seleciona colunas que serão analisadas\n",
        "df_total = df_total.select(['mes','estado','domicilio', 'entrevista_domicilio', 'domicilio_urbano_rural', 'tipo_area', 'projecao_populacao',\n",
        "                            'dificuldade_respiracao','perda_olfato_paladar', 'tosse', 'estabelecimento_saude', 'restricao_contato',\n",
        "                            'trabalhou_min_1h', 'afastamento_trabalho','trabalho_remoto', 'trabalho_remunerado', 'plano_saude',\n",
        "                            'idade', 'situacao_domicilio', 'exame_swab', 'resultado_swab',\n",
        "                            'exame_sangue_dedo', 'resultado_sangue_dedo', 'exame_sangue_braco', 'resultado_sangue_braco',\n",
        "                            'pronto_socorro_pub', 'hospital_sus','pronto_socorro_priv','hospital_privado', 'internação',\n",
        "                            'Teste_Covid'])"
      ]
    },
    {
      "cell_type": "markdown",
      "metadata": {
        "id": "T-KhqFBx6UiJ"
      },
      "source": [
        "# **1.1 De Para - Valores**"
      ]
    },
    {
      "cell_type": "code",
      "execution_count": null,
      "metadata": {
        "id": "s8p8AMiOFtpA"
      },
      "outputs": [],
      "source": [
        "# ## a saida disso vai quer a query do spark pronta iterando sobre todos os itens que tem em no dicionario \"colunas\"\n",
        "# ## Usa o dict \"colunas\" e o dicionario da malu como ferencia\n",
        "\n",
        "# ### Dicionario da malu abaixo                    TROCAR O CAMINHO PARA EXCUTAR!!\n",
        "# dicionario = pd.read_csv('/content/drive/MyDrive/Pos_tech/Tech_C/Tech_3/Dados/dicionario.csv', encoding='ISO-8859-1')\n",
        "# dicionario['nome_coluna'] = dicionario['nome_coluna'].str.upper()\n",
        "\n",
        "# for pergunta in colunas:\n",
        "#     valor = dicionario.query('nome_coluna == @pergunta')[['chave','valor']].set_index('chave').to_dict()['valor']\n",
        "#     query = f\"df_total = df_total.withColumn(\\n    '{colunas[pergunta]}',\\n\"\n",
        "#     for chave, texto in valor.items():\n",
        "#         query += f\"    F.when(df_total['{colunas[pergunta]}'] == {chave}, '{texto}').\\n\"\n",
        "#     query += f\"    otherwise(df_total['{colunas[pergunta]}'])\\n)\"\n",
        "#     print(query)"
      ]
    },
    {
      "cell_type": "code",
      "execution_count": null,
      "metadata": {
        "id": "xWg5CJf8L9eZ"
      },
      "outputs": [],
      "source": [
        "df_total = df_total.withColumn(\n",
        "    'mes',\n",
        "    F.when(df_total['mes'] == 1, 'Janeiro')\n",
        "    .when(df_total['mes'] == 2, 'Fevereiro')\n",
        "    .when(df_total['mes'] == 3, 'Março')\n",
        "    .when(df_total['mes'] == 4, 'Abril')\n",
        "    .when(df_total['mes'] == 5, 'Maio')\n",
        "    .when(df_total['mes'] == 6, 'Junho')\n",
        "    .when(df_total['mes'] == 7, 'Julho')\n",
        "    .when(df_total['mes'] == 8, 'Agosto')\n",
        "    .when(df_total['mes'] == 9, 'Setembro')\n",
        "    .when(df_total['mes'] == 10, 'Outubro')\n",
        "    .when(df_total['mes'] == 11, 'Novembro')\n",
        "    .when(df_total['mes'] == 12, 'Dezembro')\n",
        "    .otherwise(df_total['mes'])\n",
        ")\n",
        "\n",
        "df_total = df_total.withColumn(\n",
        "    'estado',\n",
        "    F.when(df_total['estado'] == 11.0, 'Rondônia')\n",
        "    .when(df_total['estado'] == 12.0, 'Acre')\n",
        "    .when(df_total['estado'] == 13.0, 'Amazonas')\n",
        "    .when(df_total['estado'] == 14.0, 'Roraima')\n",
        "    .when(df_total['estado'] == 15.0, 'Pará')\n",
        "    .when(df_total['estado'] == 16.0, 'Amapá')\n",
        "    .when(df_total['estado'] == 17.0, 'Tocantins')\n",
        "    .when(df_total['estado'] == 21.0, 'Maranhão')\n",
        "    .when(df_total['estado'] == 22.0, 'Piauí')\n",
        "    .when(df_total['estado'] == 23.0, 'Ceará')\n",
        "    .when(df_total['estado'] == 24.0, 'Rio Grande do Norte')\n",
        "    .when(df_total['estado'] == 25.0, 'Paraíba')\n",
        "    .when(df_total['estado'] == 26.0, 'Pernambuco')\n",
        "    .when(df_total['estado'] == 27.0, 'Alagoas')\n",
        "    .when(df_total['estado'] == 28.0, 'Sergipe')\n",
        "    .when(df_total['estado'] == 29.0, 'Bahia')\n",
        "    .when(df_total['estado'] == 31.0, 'Minas Gerais')\n",
        "    .when(df_total['estado'] == 32.0, 'Espírito Santo')\n",
        "    .when(df_total['estado'] == 33.0, 'Rio de Janeiro')\n",
        "    .when(df_total['estado'] == 35.0, 'São Paulo')\n",
        "    .when(df_total['estado'] == 41.0, 'Paraná')\n",
        "    .when(df_total['estado'] == 42.0, 'Santa Catarina')\n",
        "    .when(df_total['estado'] == 43.0, 'Rio Grande do Sul')\n",
        "    .when(df_total['estado'] == 50.0, 'Mato Grosso do Sul')\n",
        "    .when(df_total['estado'] == 51.0, 'Mato Grosso')\n",
        "    .when(df_total['estado'] == 52.0, 'Goiás')\n",
        "    .when(df_total['estado'] == 53.0, 'Distrito Federal')\n",
        "    .otherwise(df_total['estado'])\n",
        ")\n",
        "\n",
        "df_total = df_total.withColumn(\n",
        "    'domicilio',\n",
        "    F.when(df_total['domicilio'].isNull(), df_total['domicilio'])  # Mantém o valor original se não for nulo\n",
        "    .otherwise(df_total['domicilio'])  # Isso é redundante aqui, pois estamos mantendo o mesmo valor\n",
        ")\n",
        "\n",
        "df_total = df_total.withColumn(\n",
        "    'entrevista_domicilio',\n",
        "    F.when(df_total['entrevista_domicilio'].isNull(), df_total['entrevista_domicilio'])\n",
        "    .otherwise(df_total['entrevista_domicilio'])\n",
        ")\n",
        "\n",
        "df_total = df_total.withColumn(\n",
        "    'domicilio_urbano_rural',\n",
        "    F.when(df_total['domicilio_urbano_rural'].isNull(), df_total['domicilio_urbano_rural'])\n",
        "    .otherwise(df_total['domicilio_urbano_rural'])\n",
        ")\n",
        "\n",
        "df_total = df_total.withColumn(\n",
        "    'tipo_area',\n",
        "    F.when(df_total['tipo_area'].isNull(), df_total['tipo_area'])\n",
        "    .otherwise(df_total['tipo_area'])\n",
        ")\n",
        "\n",
        "df_total = df_total.withColumn(\n",
        "    'projecao_populacao',\n",
        "    F.when(df_total['projecao_populacao'].isNull(), df_total['projecao_populacao'])\n",
        "    .otherwise(df_total['projecao_populacao'])\n",
        ")\n",
        "\n",
        "\n",
        "df_total = df_total.withColumn(\n",
        "    'dificuldade_respiracao',\n",
        "    F.when(df_total['dificuldade_respiracao'] == 3.0, 'Não sabe')\n",
        "    .when(df_total['dificuldade_respiracao'] == 2.0, 'Não')\n",
        "    .when(df_total['dificuldade_respiracao'] == 1.0, 'Sim')\n",
        "    .otherwise(df_total['dificuldade_respiracao'])\n",
        ")\n",
        "\n",
        "df_total = df_total.withColumn(\n",
        "    'perda_olfato_paladar',\n",
        "    F.when(df_total['perda_olfato_paladar'] == 3.0, 'Não sabe')\n",
        "    .when(df_total['perda_olfato_paladar'] == 1.0, 'Sim')\n",
        "    .when(df_total['perda_olfato_paladar'] == 2.0, 'Não')\n",
        "    .otherwise(df_total['perda_olfato_paladar'])\n",
        ")\n",
        "\n",
        "df_total = df_total.withColumn(\n",
        "    'tosse',\n",
        "    F.when(df_total['tosse'] == 1.0, 'Sim')\n",
        "    .when(df_total['tosse'] == 2.0, 'Não')\n",
        "    .when(df_total['tosse'] == 3.0, 'Não sabe')\n",
        "    .otherwise(df_total['tosse'])\n",
        ")\n",
        "\n",
        "df_total = df_total.withColumn(\n",
        "    'estabelecimento_saude',\n",
        "    F.when(df_total['estabelecimento_saude'] == 9.0, 'Ignorado')\n",
        "    .when(df_total['estabelecimento_saude'].isNull(), 'Não aplicável')\n",
        "    .when(df_total['estabelecimento_saude'] == 2.0, 'Não')\n",
        "    .when(df_total['estabelecimento_saude'] == 1.0, 'Sim')\n",
        "    .otherwise(df_total['estabelecimento_saude'])\n",
        ")\n",
        "\n",
        "df_total = df_total.withColumn(\n",
        "    'restricao_contato',\n",
        "    F.when(df_total['restricao_contato'] == 3.0, 'Ficou em casa e só saiu em caso de necessidade básica')\n",
        "    .when(df_total['restricao_contato'] == 9.0, 'Ignorado')\n",
        "    .when(df_total['restricao_contato'] == 1.0, 'Não fez restrição, levou vida normal como antes da pandemia')\n",
        "    .when(df_total['restricao_contato'] == 4.0, 'Ficou rigorosamente em casa')\n",
        "    .when(df_total['restricao_contato'] == 2.0, 'Reduziu o contato com as pessoas, mas continuou saindo de casa para trabalho ou atividades não essenciais e/ou recebendo visitas')\n",
        "    .otherwise(df_total['restricao_contato'])\n",
        ")\n",
        "\n",
        "df_total = df_total.withColumn(\n",
        "    'trabalhou_min_1h',\n",
        "    F.when(df_total['trabalhou_min_1h'] == 1.0, 'Sim')\n",
        "    .when(df_total['trabalhou_min_1h'].isNull(), 'Não aplicável')\n",
        "    .when(df_total['trabalhou_min_1h'] == 2.0, 'Não')\n",
        "    .otherwise(df_total['trabalhou_min_1h'])\n",
        ")\n",
        "\n",
        "df_total = df_total.withColumn(\n",
        "    'afastamento_trabalho',\n",
        "    F.when(df_total['afastamento_trabalho'] == 1.0, 'Sim')\n",
        "    .when(df_total['afastamento_trabalho'] == 2.0, 'Não')\n",
        "    .when(df_total['afastamento_trabalho'].isNull(), 'Não aplicável')\n",
        "    .otherwise(df_total['afastamento_trabalho'])\n",
        ")\n",
        "\n",
        "df_total = df_total.withColumn(\n",
        "    'trabalho_remoto',\n",
        "    F.when(df_total['trabalho_remoto'].isNull(), 'Não aplicável')\n",
        "    .when(df_total['trabalho_remoto'] == 2.0, 'Não')\n",
        "    .when(df_total['trabalho_remoto'] == 1.0, 'Sim')\n",
        "    .otherwise(df_total['trabalho_remoto'])\n",
        ")\n",
        "\n",
        "df_total = df_total.withColumn(\n",
        "    'trabalho_remunerado',\n",
        "    F.when(df_total['trabalho_remunerado'] == 2.0, 'Não')\n",
        "    .when(df_total['trabalho_remunerado'].isNull(), 'Não aplicável')\n",
        "    .when(df_total['trabalho_remunerado'] == 1.0, 'Sim')\n",
        "    .when(df_total['trabalho_remunerado'] == 3.0, 'O trabalho já não era remunerado')\n",
        "    .otherwise(df_total['trabalho_remunerado'])\n",
        ")\n",
        "\n",
        "df_total = df_total.withColumn(\n",
        "    'plano_saude',\n",
        "    F.when(df_total['plano_saude'] == 9.0, 'Ignorado')\n",
        "    .when(df_total['plano_saude'] == 2.0, 'Não')\n",
        "    .when(df_total['plano_saude'] == 1.0, 'Sim')\n",
        "    .otherwise(df_total['plano_saude'])\n",
        ")\n",
        "\n",
        "df_total = df_total.withColumn(\n",
        "    'idade',\n",
        "    F.when(df_total['idade'].isNull(), df_total['idade'])  # Exemplo de condição\n",
        "    .otherwise(df_total['idade'])  # Mantém o mesmo valor se não for nulo\n",
        ")\n",
        "\n",
        "df_total = df_total.withColumn(\n",
        "    'situacao_domicilio',\n",
        "    F.when(df_total['situacao_domicilio'] == 7.0, 'Outra condição')\n",
        "    .when(df_total['situacao_domicilio'] == 6.0, 'Cedido de outra forma')\n",
        "    .when(df_total['situacao_domicilio'] == 5.0, 'Cedido por familiar')\n",
        "    .when(df_total['situacao_domicilio'] == 4.0, 'Cedido por empregador')\n",
        "    .when(df_total['situacao_domicilio'] == 1.0, 'Próprio - já pago')\n",
        "    .when(df_total['situacao_domicilio'] == 2.0, 'Próprio - ainda pagando')\n",
        "    .when(df_total['situacao_domicilio'] == 3.0, 'Alugado')\n",
        "    .otherwise(df_total['situacao_domicilio'])\n",
        ")\n",
        "\n",
        "df_total = df_total.withColumn(\n",
        "    'exame_swab',\n",
        "    F.when(df_total['exame_swab'] == 9.0, 'Ignorado')\n",
        "    .when(df_total['exame_swab'] == 2.0, 'Não')\n",
        "    .when(df_total['exame_swab'] == 1.0, 'Sim')\n",
        "    .otherwise(df_total['exame_swab'])\n",
        ")\n",
        "\n",
        "df_total = df_total.withColumn(\n",
        "    'resultado_swab',\n",
        "    F.when(df_total['resultado_swab'] == 4.0, 'Ainda não recebeu o resultado')\n",
        "    .when(df_total['resultado_swab'] == 1.0, 'Positivo')\n",
        "    .when(df_total['resultado_swab'].isNull(), 'Não aplicável')\n",
        "    .when(df_total['resultado_swab'] == 2.0, 'Negativo')\n",
        "    .when(df_total['resultado_swab'] == 9.0, 'Ignorado')\n",
        "    .when(df_total['resultado_swab'] == 3.0, 'Inconclusivo')\n",
        "    .otherwise(df_total['resultado_swab'])\n",
        ")\n",
        "\n",
        "df_total = df_total.withColumn(\n",
        "    'exame_sangue_dedo',\n",
        "    F.when(df_total['exame_sangue_dedo'] == 9.0, 'Ignorado')\n",
        "    .when(df_total['exame_sangue_dedo'] == 2.0, 'Não')\n",
        "    .when(df_total['exame_sangue_dedo'] == 1.0, 'Sim')\n",
        "    .otherwise(df_total['exame_sangue_dedo'])\n",
        ")\n",
        "\n",
        "df_total = df_total.withColumn(\n",
        "    'resultado_sangue_dedo',\n",
        "    F.when(df_total['resultado_sangue_dedo'] == 9.0, 'Ignorado')\n",
        "    .when(df_total['resultado_sangue_dedo'].isNull(), 'Não aplicável')\n",
        "    .when(df_total['resultado_sangue_dedo'] == 3.0, 'Inconclusivo')\n",
        "    .when(df_total['resultado_sangue_dedo'] == 1.0, 'Positivo')\n",
        "    .when(df_total['resultado_sangue_dedo'] == 2.0, 'Negativo')\n",
        "    .when(df_total['resultado_sangue_dedo'] == 4.0, 'Ainda não recebeu o resultado')\n",
        "    .otherwise(df_total['resultado_sangue_dedo'])\n",
        ")\n",
        "\n",
        "df_total = df_total.withColumn(\n",
        "    'exame_sangue_braco',\n",
        "    F.when(df_total['exame_sangue_braco'] == 9.0, 'Ignorado')\n",
        "    .when(df_total['exame_sangue_braco'] == 2.0, 'Não')\n",
        "    .when(df_total['exame_sangue_braco'] == 1.0, 'Sim')\n",
        "    .otherwise(df_total['exame_sangue_braco'])\n",
        ")\n",
        "\n",
        "df_total = df_total.withColumn(\n",
        "    'resultado_sangue_braco',\n",
        "    F.when(df_total['resultado_sangue_braco'] == 4.0, 'Ainda não recebeu o resultado')\n",
        "    .when(df_total['resultado_sangue_braco'] == 3.0, 'Inconclusivo')\n",
        "    .when(df_total['resultado_sangue_braco'] == 1.0, 'Positivo')\n",
        "    .when(df_total['resultado_sangue_braco'] == 2.0, 'Negativo')\n",
        "    .when(df_total['resultado_sangue_braco'] == 9.0, 'Ignorado')\n",
        "    .when(df_total['resultado_sangue_braco'].isNull(), 'Não aplicável')\n",
        "    .otherwise(df_total['resultado_sangue_braco'])\n",
        ")\n",
        "\n",
        "\n",
        "df_total = df_total.withColumn(\n",
        "    'pronto_socorro_pub',\n",
        "    F.when(df_total['pronto_socorro_pub'] == 9.0, 'Ignorado')\n",
        "    .when(df_total['pronto_socorro_pub'] == 2.0, 'Não')\n",
        "    .when(df_total['pronto_socorro_pub'] == 1.0, 'Sim')\n",
        "    .when(df_total['pronto_socorro_pub'].isNull(), 'Não aplicável')\n",
        "    .otherwise(df_total['pronto_socorro_pub'])\n",
        ")\n",
        "\n",
        "df_total = df_total.withColumn(\n",
        "    'hospital_sus',\n",
        "    F.when(df_total['hospital_sus'] == 9.0, 'Ignorado')\n",
        "    .when(df_total['hospital_sus'] == 2.0, 'Não')\n",
        "    .when(df_total['hospital_sus'] == 1.0, 'Sim')\n",
        "    .when(df_total['hospital_sus'].isNull(), 'Não aplicável')\n",
        "    .otherwise(df_total['hospital_sus'])\n",
        ")\n",
        "\n",
        "df_total = df_total.withColumn(\n",
        "    'pronto_socorro_priv',\n",
        "    F.when(df_total['pronto_socorro_priv'] == 9.0, 'Ignorado')\n",
        "    .when(df_total['pronto_socorro_priv'] == 2.0, 'Não')\n",
        "    .when(df_total['pronto_socorro_priv'] == 1.0, 'Sim')\n",
        "   .when(df_total['pronto_socorro_priv'].isNull(), 'Não aplicável')\n",
        "    .otherwise(df_total['pronto_socorro_priv'])\n",
        ")\n",
        "\n",
        "df_total = df_total.withColumn(\n",
        "    'hospital_privado',\n",
        "    F.when(df_total['hospital_privado'] == 9.0, 'Ignorado')\n",
        "    .when(df_total['hospital_privado'] == 2.0, 'Não')\n",
        "    .when(df_total['hospital_privado'] == 1.0, 'Sim')\n",
        "    .when(df_total['hospital_privado'].isNull(), 'Não aplicável')\n",
        "    .otherwise(df_total['hospital_privado'])\n",
        ")\n",
        "\n",
        "df_total = df_total.withColumn(\n",
        "    'Teste_Covid',\n",
        "    F.when(df_total['Teste_Covid'] == 9.0, 'Ignorado')\n",
        "    .when(df_total['Teste_Covid'] == 2.0, 'Não')\n",
        "    .when(df_total['Teste_Covid'] == 1.0, 'Sim')\n",
        "    .when(df_total['Teste_Covid'].isNull(), 'Não aplicável')\n",
        "    .otherwise(df_total['Teste_Covid'])\n",
        ")\n",
        "\n",
        "df_total = df_total.withColumn(\n",
        "    'internação',\n",
        "    F.when(df_total['internação'] == 9.0, 'Ignorado')\n",
        "    .when(df_total['internação'] == 2.0, 'Não')\n",
        "    .when(df_total['internação'] == 1.0, 'Sim')\n",
        "  .when(df_total['internação'] == 3.0, 'Não foi atendido')\n",
        "    .when(df_total['internação'].isNull(), 'Não aplicável')\n",
        "    .otherwise(df_total['internação'])\n",
        ")\n"
      ]
    },
    {
      "cell_type": "markdown",
      "metadata": {
        "id": "F9Y8iASz-PM1"
      },
      "source": [
        "## **PARTE 0 - CARACTERÍSTICA ECONÔMICA DA SOCIEDADE**"
      ]
    },
    {
      "cell_type": "markdown",
      "metadata": {
        "id": "bxbsCfs_7qd1"
      },
      "source": [
        "# **Parte 0 -Estado com maior participação nas entrevistas**"
      ]
    },
    {
      "cell_type": "code",
      "execution_count": null,
      "metadata": {
        "id": "vKaHAbym7l8Y"
      },
      "outputs": [],
      "source": [
        "#  Estado com maior participação nas entrevistas - Total de 3 meses de Análise\n",
        "estado_count = df_total.groupBy('estado').count()\n",
        "\n",
        "estado_max = estado_count.orderBy(F.desc('count')).first()\n",
        "estado_max"
      ]
    },
    {
      "cell_type": "code",
      "execution_count": null,
      "metadata": {
        "id": "esGONwk44T0a",
        "colab": {
          "base_uri": "https://localhost:8080/"
        },
        "outputId": "4f8ec7d7-7698-47e3-c018-321fa45ef79a"
      },
      "outputs": [
        {
          "output_type": "stream",
          "name": "stdout",
          "text": [
            "+--------+------------+-----+\n",
            "|     mes|      estado|count|\n",
            "+--------+------------+-----+\n",
            "|  Agosto|   São Paulo|    1|\n",
            "|   Julho|Minas Gerais|    1|\n",
            "|Setembro|Minas Gerais|    1|\n",
            "+--------+------------+-----+\n",
            "\n"
          ]
        }
      ],
      "source": [
        "from pyspark.sql.window import Window\n",
        "from pyspark.sql import functions as F\n",
        "\n",
        "# Estado com maior participação nas entrevistas por mês (Julho, Agosto, Setembro)\n",
        "\n",
        "\n",
        "# Agrupar por estado e mês, e contar o número de entrevistas por cada estado em cada mês analisado\n",
        "estado_mes_count = df_total.groupBy('estado', 'mes').count()\n",
        "\n",
        "# Para cada mês, encontrar o estado com o maior número de entrevistas\n",
        "window_spec = Window.partitionBy('mes').orderBy(F.desc('count'))\n",
        "estado_mes_max = estado_mes_count.withColumn(\n",
        "    'rank', F.row_number().over(window_spec)\n",
        ").filter(F.col('rank') == 1)\n",
        "\n",
        "\n",
        "estado_mes_max.select('mes', 'estado', 'count').show()"
      ]
    },
    {
      "cell_type": "markdown",
      "metadata": {
        "id": "Hk_XyHfB7xXj"
      },
      "source": [
        "# **Parte 0 - Tendo em mente o comando acima, qual a % que vive em zonas urbanas e rurais?**"
      ]
    },
    {
      "cell_type": "markdown",
      "metadata": {
        "id": "WiUxISqz6NEp"
      },
      "source": [
        "**Tendo em mente o comando acima, focaremos nossa análise no estado com maior participação na pesquisa do IBGE. **"
      ]
    },
    {
      "cell_type": "code",
      "execution_count": null,
      "metadata": {
        "id": "cdbANONb0rbf",
        "colab": {
          "base_uri": "https://localhost:8080/"
        },
        "outputId": "ae265344-5172-4158-a018-163daa5aa641"
      },
      "outputs": [
        {
          "output_type": "stream",
          "name": "stdout",
          "text": [
            "+---------------+-----+----------+\n",
            "|mapeamento_area|count|percentual|\n",
            "+---------------+-----+----------+\n",
            "|         Urbano|76676|     73.62|\n",
            "|          Rural|27480|     26.38|\n",
            "+---------------+-----+----------+\n",
            "\n"
          ]
        }
      ],
      "source": [
        "## Considerando o Estado de Minas Gerais, qual a participação por região rural/ urbano\n",
        "\n",
        "df_minas = df_total.filter(F.col('estado') == 'Minas Gerais')\n",
        "\n",
        "# de para da regiao\n",
        "df_minas = df_minas.withColumn('mapeamento_area', F.when(F.col('domicilio_urbano_rural') == 1, 'Urbano')\n",
        "                                             .when(F.col('domicilio_urbano_rural') == 2, 'Rural')\n",
        "                                             .otherwise('Outros'))\n",
        "\n",
        "# Contar o número de entrevistas pra cada area\n",
        "contagem = df_minas.groupBy('mapeamento_area').count()\n",
        "\n",
        "# Calcular o total de registros em Minas Gerais\n",
        "\n",
        "total_minas = df_minas.count()\n",
        "\n",
        "# Calcular a porcentagem de cada tipo de área\n",
        "participação = contagem.withColumn('percentual', F.round((F.col('count') / total_minas) * 100, 2))\n",
        "participação.show()"
      ]
    },
    {
      "cell_type": "code",
      "source": [
        "# Instalar bibliotecas necessárias\n",
        "!pip install matplotlib pandas\n",
        "\n",
        "# Importar bibliotecas\n",
        "import pandas as pd\n",
        "import matplotlib.pyplot as plt"
      ],
      "metadata": {
        "id": "fBdBPkFyI5pU"
      },
      "execution_count": null,
      "outputs": []
    },
    {
      "cell_type": "code",
      "source": [
        "data = {\n",
        "    'mapeamento_area': ['Urbano', 'Rural'],\n",
        "    'count': [76676, 27480]\n",
        "}\n",
        "participação = pd.DataFrame(data)\n",
        "\n",
        "# Calcular a porcentagem de cada tipo de área\n",
        "total_minas = participação['count'].sum()\n",
        "participação['percentual'] = (participação['count'] / total_minas) * 100\n",
        "\n",
        "# Cores personalizadas\n",
        "cores = ['#66b3ff', '#99ff99']\n",
        "\n",
        "# Explosão de fatias\n",
        "explode = (0.05, 0.05)  # Pequena separação das fatias\n",
        "\n",
        "# Criar o gráfico de pizza\n",
        "plt.figure(figsize=(8, 8))\n",
        "\n",
        "# Criar gráfico de pizza sem legenda\n",
        "wedges, texts, autotexts = plt.pie(participação['percentual'], autopct='%1.1f%%', startangle=140,\n",
        "                                   colors=cores, explode=explode, shadow=True, textprops={'fontsize': 14})\n",
        "\n",
        "# Título\n",
        "plt.title('Participação por Região em Minas Gerais', fontsize=16, weight='bold')\n",
        "\n",
        "# Colocar legenda fora do gráfico\n",
        "plt.legend(wedges, participação['mapeamento_area'], title=\"Regiões\", loc=\"center left\", bbox_to_anchor=(1, 0, 0.5, 1), fontsize=14)\n",
        "\n",
        "# Garantir que o gráfico seja circular\n",
        "plt.axis('equal')\n",
        "\n",
        "# Mostrar o gráfico\n",
        "plt.tight_layout()  # Para ajustar a posição dos elementos\n",
        "plt.show()\n"
      ],
      "metadata": {
        "colab": {
          "base_uri": "https://localhost:8080/",
          "height": 807
        },
        "id": "ITqIDPJEJGxk",
        "outputId": "c095a9ba-157f-4aab-9087-9272deab683d"
      },
      "execution_count": null,
      "outputs": [
        {
          "output_type": "display_data",
          "data": {
            "text/plain": [
              "<Figure size 800x800 with 1 Axes>"
            ],
            "image/png": "[encoded data removed]"
          },
          "metadata": {}
        }
      ]
    },
    {
      "cell_type": "markdown",
      "metadata": {
        "id": "0y94bZHM8DE5"
      },
      "source": [
        "--- *Focaremos nossa análise na Zona Urbana*"
      ]
    },
    {
      "cell_type": "markdown",
      "metadata": {
        "id": "3feiv_oa-ffU"
      },
      "source": [
        "# **Parte 0 - Plano de Saúde**"
      ]
    },
    {
      "cell_type": "code",
      "execution_count": null,
      "metadata": {
        "id": "IYQV4EU976ts",
        "colab": {
          "base_uri": "https://localhost:8080/"
        },
        "outputId": "56fc945a-83fd-4f8a-ef65-d3f8ff9e5e9c"
      },
      "outputs": [
        {
          "output_type": "stream",
          "name": "stdout",
          "text": [
            "Porcentagem (%) de pessoas que vivem em zona Urbana e têm plano de saúde: 34.15%\n"
          ]
        }
      ],
      "source": [
        "# Filtra pessoas que vivem em zonas urbanas\n",
        "df_urbano = df_minas.filter(F.col('mapeamento_area') == 'Urbano')\n",
        "\n",
        "# Filtra as pessoas que têm plano de saúde\n",
        "df_urbano_com_plano = df_urbano.filter(F.col('plano_saude') == 'Sim')\n",
        "\n",
        "# Conta o total de pessoas em zonas urbanas\n",
        "total_urbano_plano = df_urbano.count()\n",
        "\n",
        "# Conta as pessoas que têm plano de saúde\n",
        "total_urbano_com_plano = df_urbano_com_plano.count()\n",
        "\n",
        "# Calcula a %\n",
        "if total_urbano_plano > 0:\n",
        "    tem_plano = (total_urbano_com_plano / total_urbano_plano) * 100\n",
        "else:\n",
        "    tem_plano = 0\n",
        "\n",
        "print(f\"Porcentagem (%) de pessoas que vivem em zona Urbana e têm plano de saúde: {tem_plano:.2f}%\")"
      ]
    },
    {
      "cell_type": "markdown",
      "metadata": {
        "id": "Gie1T9gz_USF"
      },
      "source": [
        "# **Parte 0 - Situação Domiciliar da Zona Urbana**"
      ]
    },
    {
      "cell_type": "code",
      "execution_count": null,
      "metadata": {
        "id": "4lwWka1n-ne4",
        "colab": {
          "base_uri": "https://localhost:8080/"
        },
        "outputId": "3106940e-3ce3-4828-e5e1-893750958c45"
      },
      "outputs": [
        {
          "output_type": "stream",
          "name": "stdout",
          "text": [
            "+-----------------------+------------------+----------+\n",
            "|situacao_domicilio     |total_por_situacao|percentual|\n",
            "+-----------------------+------------------+----------+\n",
            "|Próprio - ainda pagando|6329              |8.25      |\n",
            "|Próprio - já pago      |47214             |61.58     |\n",
            "|Alugado                |14227             |18.55     |\n",
            "|Cedido por familiar    |8085              |10.54     |\n",
            "|Cedido de outra forma  |505               |0.66      |\n",
            "|Cedido por empregador  |208               |0.27      |\n",
            "|Outra condição         |108               |0.14      |\n",
            "+-----------------------+------------------+----------+\n",
            "\n"
          ]
        }
      ],
      "source": [
        "# Agrupa por situacao_domicilio e contar o número de pessoas em cada grupo\n",
        "df_urbano_casas = df_urbano.groupBy('situacao_domicilio').agg(F.count('*').alias('total_por_situacao'))\n",
        "\n",
        "total_urbano = df_urbano.count()\n",
        "\n",
        "# Calcular a %\n",
        "df_part = df_urbano_casas.withColumn(\n",
        "    'percentual',\n",
        "    F.format_number((F.col('total_por_situacao') / total_urbano) * 100, 2))\n",
        "\n",
        "df_part = df_part.orderBy(F.col('percentual').desc())\n",
        "df_part.show(truncate=False)"
      ]
    },
    {
      "cell_type": "markdown",
      "metadata": {
        "id": "Jpop-VDTBsOD"
      },
      "source": [
        "# **Parte 0 - Trabalho Remunerado e Média de Idade por situação salarial**"
      ]
    },
    {
      "cell_type": "code",
      "execution_count": null,
      "metadata": {
        "id": "SZq5XRIVArA3"
      },
      "outputs": [],
      "source": [
        "# Agrupa por remuneração salarial (trabalho_remunerado) e média de idade pra casa situação\n",
        "df_urbano_trab = df_urbano.groupBy('trabalho_remunerado').agg(\n",
        "    F.count('*').alias('total_por_situacao'),\n",
        "     F.round(F.avg('idade'), 0).alias('media_idade')\n",
        ")\n",
        "\n",
        "# Conta pessoas\n",
        "total_urbano = df_urbano.count()\n",
        "\n",
        "# Calcula a %\n",
        "df_part = df_urbano_trab.withColumn(\n",
        "    'percentual',\n",
        "    F.format_number((F.col('total_por_situacao') / total_urbano) * 100, 2))\n",
        "\n",
        "df_part = df_part.orderBy(F.col('percentual').desc())\n",
        "df_part.show(truncate=False)"
      ]
    },
    {
      "cell_type": "markdown",
      "metadata": {
        "id": "12vfp2HFDlLm"
      },
      "source": [
        "## **PARTE 1 - COMPORTAMENTO DA SOCIEDADE NO COVID-19 (No período de 3 meses)**"
      ]
    },
    {
      "cell_type": "markdown",
      "metadata": {
        "id": "AXXCj3wtD5h-"
      },
      "source": [
        "# **Parte 1 - Procuraram um Sistema de Saúde?**"
      ]
    },
    {
      "cell_type": "markdown",
      "metadata": {
        "id": "ds1MhWle89zE"
      },
      "source": [
        "PROCURA DA POPULAÇÃO PELO SISTEMA PÚBLICO"
      ]
    },
    {
      "cell_type": "code",
      "execution_count": null,
      "metadata": {
        "id": "7BuRW2Gk9iMJ"
      },
      "outputs": [],
      "source": [
        "# Filtra as pessoas que procuraram sistema publico\n",
        "df_urbano_publico = df_urbano.filter(\n",
        "    (F.col('pronto_socorro_pub') == 'Sim') | (F.col('hospital_sus') == 'Sim'))\n",
        "\n",
        "# Conta o total de pessoas em zonas urbanas por mês\n",
        "total_urbano_por_mes = df_urbano.groupBy('mes').count().withColumnRenamed('count', 'total_urbano')\n",
        "\n",
        "# Conta o total de pessoas que procuraram o sistema público em zonas urbanas por mês\n",
        "total_urbano_pub_por_mes = df_urbano_publico.groupBy('mes').count().withColumnRenamed('count', 'total_publico')\n",
        "\n",
        "# Junta as duas contagens para calcular a % por mês\n",
        "df_resultado = total_urbano_pub_por_mes.join(total_urbano_por_mes, 'mes')\n",
        "\n",
        "# Calculaa a %\n",
        "df_resultado = df_resultado.withColumn(\n",
        "    'percentual_publico', F.round((F.col('total_publico') / F.col('total_urbano')) * 100, 2))\n",
        "\n",
        "df_resultado.select('mes', 'total_urbano', 'total_publico', 'percentual_publico').show()"
      ]
    },
    {
      "cell_type": "code",
      "execution_count": null,
      "metadata": {
        "id": "Z3xBTpU--lqV"
      },
      "outputs": [],
      "source": [
        "#  Filtra as pessoas que procuraram o sistema privado\n",
        "df_urbano_privado = df_urbano.filter(\n",
        "    (F.col('pronto_socorro_priv') == 'Sim') | (F.col('hospital_privado') == 'Sim'))\n",
        "\n",
        "# Conta o total de pessoas que procuraram o sistema privado em zonas urbanas por mês\n",
        "total_urbano_priv_por_mes = df_urbano_privado.groupBy('mes').count().withColumnRenamed('count', 'total_privado')\n",
        "\n",
        "df_resultado = total_urbano_priv_por_mes.join(total_urbano_por_mes, 'mes')\n",
        "\n",
        "# Calcula a %\n",
        "df_resultado = df_resultado.withColumn(\n",
        "    'percentual_privado', F.round((F.col('total_privado') / F.col('total_urbano')) * 100, 2))\n",
        "\n",
        "df_resultado.select('mes', 'total_urbano', 'total_privado', 'percentual_privado').show()"
      ]
    },
    {
      "cell_type": "code",
      "source": [
        "import matplotlib.pyplot as plt\n",
        "import pandas as pd\n",
        "\n",
        "# Filtra as pessoas que procuraram sistema público\n",
        "df_urbano_publico = df_urbano.filter(\n",
        "    (F.col('pronto_socorro_pub') == 'Sim') | (F.col('hospital_sus') == 'Sim'))\n",
        "\n",
        "# Conta o total de pessoas em zonas urbanas por mês\n",
        "total_urbano_por_mes = df_urbano.groupBy('mes').count().withColumnRenamed('count', 'total_urbano')\n",
        "\n",
        "# Conta o total de pessoas que procuraram o sistema público em zonas urbanas por mês\n",
        "total_urbano_pub_por_mes = df_urbano_publico.groupBy('mes').count().withColumnRenamed('count', 'total_publico')\n",
        "\n",
        "# Junta as duas contagens para calcular a % por mês\n",
        "df_resultado_pub = total_urbano_pub_por_mes.join(total_urbano_por_mes, 'mes')\n",
        "\n",
        "# Calcula a % para o público\n",
        "df_resultado_pub = df_resultado_pub.withColumn(\n",
        "    'percentual_publico', F.round((F.col('total_publico') / F.col('total_urbano')) * 100, 2)\n",
        ")\n",
        "\n",
        "# Filtra as pessoas que procuraram o sistema privado\n",
        "df_urbano_privado = df_urbano.filter(\n",
        "    (F.col('pronto_socorro_priv') == 'Sim') | (F.col('hospital_privado') == 'Sim'))\n",
        "\n",
        "# Conta o total de pessoas que procuraram o sistema privado em zonas urbanas por mês\n",
        "total_urbano_priv_por_mes = df_urbano_privado.groupBy('mes').count().withColumnRenamed('count', 'total_privado')\n",
        "\n",
        "# Junta as duas contagens para calcular a % por mês\n",
        "df_resultado_priv = total_urbano_priv_por_mes.join(total_urbano_por_mes, 'mes')\n",
        "\n",
        "# Calcula a % para o privado\n",
        "df_resultado_priv = df_resultado_priv.withColumn(\n",
        "    'percentual_privado', F.round((F.col('total_privado') / F.col('total_urbano')) * 100, 2)\n",
        ")\n",
        "\n",
        "# Juntando os resultados para comparação\n",
        "df_comparativo = df_resultado_pub.join(df_resultado_priv, 'mes')\\\n",
        "    .select('mes', 'percentual_publico', 'percentual_privado')\n",
        "\n",
        "# Coletar os resultados em um DataFrame Pandas\n",
        "df_comparativo_pd = df_comparativo.toPandas()\n",
        "\n",
        "# Configurar o gráfico\n",
        "plt.figure(figsize=(10, 6))\n",
        "plt.plot(df_comparativo_pd['mes'], df_comparativo_pd['percentual_publico'], marker='o', label='Sistema Público', color='blue')\n",
        "plt.plot(df_comparativo_pd['mes'], df_comparativo_pd['percentual_privado'], marker='o', label='Sistema Privado', color='orange')\n",
        "\n",
        "# Adicionar título e rótulos\n",
        "plt.title('Comparação entre Sistemas Público e Privado em Zonas Urbanas por Mês', fontsize=14)\n",
        "plt.xlabel('Mês', fontsize=12)\n",
        "plt.ylabel('Percentual (%)', fontsize=12)\n",
        "plt.xticks(rotation=45)\n",
        "plt.legend(title='Tipo de Sistema')\n",
        "plt.grid()\n",
        "\n",
        "# Adicionar rótulos nos pontos\n",
        "for i in range(len(df_comparativo_pd)):\n",
        "    plt.text(df_comparativo_pd['mes'][i], df_comparativo_pd['percentual_publico'][i] + 1,\n",
        "             f\"{df_comparativo_pd['percentual_publico'][i]}%\",\n",
        "             horizontalalignment='center', color='blue', fontsize=10)\n",
        "\n",
        "    plt.text(df_comparativo_pd['mes'][i], df_comparativo_pd['percentual_privado'][i] + 1,\n",
        "             f\"{df_comparativo_pd['percentual_privado'][i]}%\",\n",
        "             horizontalalignment='center', color='orange', fontsize=10)\n",
        "\n",
        "# Ajustar o layout do gráfico\n",
        "plt.tight_layout()\n",
        "\n",
        "# Mostrar o gráfico\n",
        "plt.show()\n"
      ],
      "metadata": {
        "id": "0dx_CHr6GT7y"
      },
      "execution_count": null,
      "outputs": []
    },
    {
      "cell_type": "markdown",
      "metadata": {
        "id": "MeZfCbmdEC0h"
      },
      "source": [
        "# ***Calculamos a procura do Sistema de Saúde somando as procuras por público e privado pra ter mais sensibilidade.  ***"
      ]
    },
    {
      "cell_type": "code",
      "execution_count": null,
      "metadata": {
        "id": "_8CptPsd-0BG"
      },
      "outputs": [],
      "source": [
        "total_urbano_pub_por_mes = df_urbano_publico.groupBy('mes').count().withColumnRenamed('count', 'total_publico')\n",
        "total_urbano_priv_por_mes = df_urbano_privado.groupBy('mes').count().withColumnRenamed('count', 'total_privado')\n",
        "\n",
        "df_resultado = total_urbano_pub_por_mes.join(total_urbano_priv_por_mes, 'mes')\n",
        "\n",
        "df_resultado = df_resultado.withColumn('total_publico_privado', F.col('total_publico') + F.col('total_privado'))\n",
        "\n",
        "\n",
        "df_resultado = df_resultado.withColumn(\n",
        "    'percentual_publico', F.round((F.col('total_publico') / F.col('total_publico_privado')) * 100, 2))\n",
        "\n",
        "\n",
        "df_resultado = df_resultado.withColumnRenamed('mes', 'Mês') \\\n",
        "                           .withColumnRenamed('total_publico', 'Buscaram Hosp Público') \\\n",
        "                           .withColumnRenamed('total_privado', 'Buscaram Hosp Privado') \\\n",
        "                           .withColumnRenamed('total_publico_privado', 'Busca Total') \\\n",
        "                           .withColumnRenamed('percentual_publico', '% de Busca')\n",
        "\n",
        "df_resultado.select(F.col('Mês'),F.col('Buscaram Hosp Público'),F.col('Buscaram Hosp Privado'),F.col('Busca Total'),F.col('% de Busca')).show()"
      ]
    },
    {
      "cell_type": "markdown",
      "metadata": {
        "id": "KGdvz1_GEXDy"
      },
      "source": [
        "# **Parte 1 - Realizou teste do Covid? Qual?**"
      ]
    },
    {
      "cell_type": "code",
      "execution_count": null,
      "metadata": {
        "id": "MJg437HJC0n4"
      },
      "outputs": [],
      "source": [
        "from pyspark.sql import functions as F\n",
        "\n",
        "# Filtrar as pessoas que procuraram atendimento e fizeram teste de COVID (sistema público ou privado)\n",
        "df_teste_covid_publico = df_urbano_publico.filter(F.col('Teste_Covid') == 'Sim')\n",
        "df_teste_covid_privado = df_urbano_privado.filter(F.col('Teste_Covid') == 'Sim')\n",
        "teste_covid = df_teste_covid_publico.union(df_teste_covid_privado)\n",
        "\n",
        "# Conta o total de pessoas que fizeram o teste de COVID-19 por mês\n",
        "total_teste_covid_por_mes = teste_covid.groupBy('mes').count().withColumnRenamed('count', 'total_teste_covid')\n",
        "\n",
        "# Calcula totais e percentuais para cada tipo de teste\n",
        "def calcular_percentuais(df):\n",
        "    total = df.count()\n",
        "    percentuais = {\n",
        "        'percentual_swab': round((df.filter(F.col('exame_swab') == 'Sim').count() / total * 100), 2) if total > 0 else 0,\n",
        "        'percentual_dedo': round((df.filter(F.col('exame_sangue_dedo') == 'Sim').count() / total * 100), 2) if total > 0 else 0,\n",
        "        'percentual_sangue_braco': round((df.filter(F.col('exame_sangue_braco') == 'Sim').count() / total * 100), 2) if total > 0 else 0}\n",
        "    return percentuais\n",
        "\n",
        "# Aplica a função de percentuais e criar um DataFrame de resultados\n",
        "resultados = []\n",
        "for row in total_teste_covid_por_mes.collect():\n",
        "    mes = row['mes']\n",
        "    count_teste = row['total_teste_covid']\n",
        "    teste_covid_mes = teste_covid.filter(F.col('mes') == mes)\n",
        "\n",
        "    percentuais = calcular_percentuais(teste_covid_mes)\n",
        "    resultados.append((mes, count_teste, percentuais['percentual_swab'], percentuais['percentual_dedo'], percentuais['percentual_sangue_braco']))\n",
        "\n",
        "df_resultado = spark.createDataFrame(resultados, schema=['Mês', 'Total Testes COVID', 'Porcentagem SWAB', 'Porcentagem Dedo', 'Porcentagem Sangue no Braço'])\n",
        "\n",
        "df_resultado.show()\n"
      ]
    },
    {
      "cell_type": "code",
      "source": [
        "from pyspark.sql import functions as F\n",
        "import matplotlib.pyplot as plt\n",
        "\n",
        "# Filtrar as pessoas que procuraram atendimento e fizeram teste de COVID (sistema público ou privado)\n",
        "df_teste_covid_publico = df_urbano_publico.filter(F.col('Teste_Covid') == 'Sim')\n",
        "df_teste_covid_privado = df_urbano_privado.filter(F.col('Teste_Covid') == 'Sim')\n",
        "teste_covid = df_teste_covid_publico.union(df_teste_covid_privado)\n",
        "\n",
        "# Conta o total de pessoas que fizeram o teste de COVID-19 por mês\n",
        "total_teste_covid_por_mes = teste_covid.groupBy('mes').count().withColumnRenamed('count', 'total_teste_covid')\n",
        "\n",
        "# Calcula totais e percentuais para cada tipo de teste\n",
        "def calcular_percentuais(df):\n",
        "    total = df.count()\n",
        "    percentuais = {\n",
        "        'percentual_swab': round((df.filter(F.col('exame_swab') == 'Sim').count() / total * 100), 2) if total > 0 else 0,\n",
        "        'percentual_dedo': round((df.filter(F.col('exame_sangue_dedo') == 'Sim').count() / total * 100), 2) if total > 0 else 0,\n",
        "        'percentual_sangue_braco': round((df.filter(F.col('exame_sangue_braco') == 'Sim').count() / total * 100), 2) if total > 0 else 0}\n",
        "    return percentuais\n",
        "\n",
        "# Aplica a função de percentuais e criar um DataFrame de resultados\n",
        "resultados = []\n",
        "for row in total_teste_covid_por_mes.collect():\n",
        "    mes = row['mes']\n",
        "    count_teste = row['total_teste_covid']\n",
        "    teste_covid_mes = teste_covid.filter(F.col('mes') == mes)\n",
        "\n",
        "    percentuais = calcular_percentuais(teste_covid_mes)\n",
        "    resultados.append((mes, count_teste, percentuais['percentual_swab'], percentuais['percentual_dedo'], percentuais['percentual_sangue_braco']))\n",
        "\n",
        "df_resultado = spark.createDataFrame(resultados, schema=['Mês', 'Total Testes COVID', 'Porcentagem SWAB', 'Porcentagem Dedo', 'Porcentagem Sangue no Braço'])\n",
        "\n",
        "# Coletar os resultados em um DataFrame Pandas\n",
        "df_resultado_pd = df_resultado.toPandas()\n",
        "\n",
        "# Configurar o gráfico\n",
        "plt.figure(figsize=(10, 6))\n",
        "bar_width = 0.2  # Largura das barras\n",
        "x = range(len(df_resultado_pd['Mês']))\n",
        "\n",
        "# Criar barras para cada tipo de teste\n",
        "plt.bar([i - bar_width for i in x], df_resultado_pd['Porcentagem SWAB'], width=bar_width, label='SWAB', color='blue')\n",
        "plt.bar(x, df_resultado_pd['Porcentagem Dedo'], width=bar_width, label='Dedo', color='orange')\n",
        "plt.bar([i + bar_width for i in x], df_resultado_pd['Porcentagem Sangue no Braço'], width=bar_width, label='Sangue no Braço', color='green')\n",
        "\n",
        "# Adicionar título e rótulos\n",
        "plt.title('Porcentagem de Testes de COVID-19 por Tipo e Mês', fontsize=14)\n",
        "plt.xlabel('Mês', fontsize=12)\n",
        "plt.ylabel('Porcentagem (%)', fontsize=12)\n",
        "plt.xticks(x, df_resultado_pd['Mês'], rotation=45)\n",
        "plt.legend(title='Tipo de Teste')\n",
        "plt.grid(axis='y')\n",
        "\n",
        "# Adicionar rótulos nas barras\n",
        "for i in range(len(df_resultado_pd)):\n",
        "    plt.text(i - bar_width, df_resultado_pd['Porcentagem SWAB'][i] + 1,\n",
        "             f\"{df_resultado_pd['Porcentagem SWAB'][i]}%\",\n",
        "             horizontalalignment='center', color='blue')\n",
        "\n",
        "    plt.text(i, df_resultado_pd['Porcentagem Dedo'][i] + 1,\n",
        "             f\"{df_resultado_pd['Porcentagem Dedo'][i]}%\",\n",
        "             horizontalalignment='center', color='orange')\n",
        "\n",
        "    plt.text(i + bar_width, df_resultado_pd['Porcentagem Sangue no Braço'][i] + 1,\n",
        "             f\"{df_resultado_pd['Porcentagem Sangue no Braço'][i]}%\",\n",
        "             horizontalalignment='center', color='green')\n",
        "\n",
        "# Mostrar o gráfico\n",
        "plt.tight_layout()\n",
        "plt.show()\n"
      ],
      "metadata": {
        "id": "l2GxJmBgHH7Q"
      },
      "execution_count": null,
      "outputs": []
    },
    {
      "cell_type": "markdown",
      "source": [
        "# **Parte 1 - Realizou teste do COVID em casa?**"
      ],
      "metadata": {
        "id": "AMc-64iDSw05"
      }
    },
    {
      "cell_type": "markdown",
      "metadata": {
        "id": "vhGBx7R3zXHJ"
      },
      "source": [
        "### **Tendo em vista que os exames SWAB podem ser feitos pelo própria pessoa e não necessitando de uma ida aos postos de saúde, analisaremos: **"
      ]
    },
    {
      "cell_type": "code",
      "execution_count": null,
      "metadata": {
        "id": "qolai3RlzOHD"
      },
      "outputs": [],
      "source": [
        "from pyspark.sql import functions as F\n",
        "\n",
        "\n",
        "### Filtra quem não foi ao hospital\n",
        "df_urbano_publico2 = df_urbano.filter(\n",
        "    (F.col('pronto_socorro_pub') == 'Não') | (F.col('hospital_sus') == 'Não'))\n",
        "df_urbano_privado2 = df_urbano.filter(\n",
        "    (F.col('pronto_socorro_priv') == 'Não') | (F.col('hospital_privado') == 'Não'))\n",
        "\n",
        "# Filtrar as pessoas fizeram teste de COVID - SWAB sem ir ao atendimento especializado:\n",
        "df_teste_covid_publico = df_urbano_publico2.filter(F.col('Teste_Covid') == 'Sim')\n",
        "df_teste_covid_privado = df_urbano_privado2.filter(F.col('Teste_Covid') == 'Sim')\n",
        "teste_covid = df_teste_covid_publico.union(df_teste_covid_privado)\n",
        "\n",
        "# Conta o total de pessoas que fizeram o teste de COVID-19 por mês\n",
        "total_teste_covid_por_mes = teste_covid.groupBy('mes').count().withColumnRenamed('count', 'total_teste_covid')\n",
        "\n",
        "# Calcula totais e percentuais para EXAMES SWAB:::\n",
        "def calcular_percentuais(df):\n",
        "    total = df.count()\n",
        "    percentuais = {\n",
        "        'percentual_swab': round((df.filter(F.col('exame_swab') == 'Sim').count() / total * 100), 2) if total > 0 else 0}\n",
        "    return percentuais\n",
        "\n",
        "# Aplica a função de percentuais e criar um DataFrame de resultados\n",
        "resultados = []\n",
        "for row in total_teste_covid_por_mes.collect():\n",
        "    mes = row['mes']\n",
        "    count_teste = row['total_teste_covid']\n",
        "    teste_covid_mes = teste_covid.filter(F.col('mes') == mes)\n",
        "\n",
        "    percentuais = calcular_percentuais(teste_covid_mes)\n",
        "    resultados.append((mes, count_teste, percentuais['percentual_swab']))\n",
        "\n",
        "df_resultado = spark.createDataFrame(resultados, schema=['Mês', 'Total Testes COVID', 'Porcentagem SWAB'])\n",
        "df_resultado.show()"
      ]
    },
    {
      "cell_type": "markdown",
      "metadata": {
        "id": "fcxDE17nGlmF"
      },
      "source": [
        "# **Parte 1 - Isolamento**"
      ]
    },
    {
      "cell_type": "code",
      "execution_count": null,
      "metadata": {
        "id": "-JI3hjm3GScs"
      },
      "outputs": [],
      "source": [
        "\n",
        "# Agrupaa por restricao_contato e contar o número de pessoas em cada grupo\n",
        "df_urbano_restricao = df_urbano.groupBy('restricao_contato').agg(F.count('*').alias('total_por_restricao'))\n",
        "\n",
        "# Conta o total de pessoas em zonas urbanas\n",
        "total_urbano = df_urbano.count()\n",
        "\n",
        "df_percentuais = df_urbano_restricao.withColumn('percentual',\n",
        "    F.format_number((F.col('total_por_restricao') / total_urbano) * 100, 2))\n",
        "\n",
        "df_percentuais = df_percentuais.orderBy(F.col('percentual').desc())\n",
        "df_percentuais.show(truncate=False)"
      ]
    },
    {
      "cell_type": "markdown",
      "metadata": {
        "id": "1FR0EHn9Hr-9"
      },
      "source": [
        "## **PARTE 2 - SINTOMAS CLÍNICOS**"
      ]
    },
    {
      "cell_type": "markdown",
      "metadata": {
        "id": "ETFEWi1bIL9z"
      },
      "source": [
        "# **Parte 2 - Resultados dos testes de COVID-19**"
      ]
    },
    {
      "cell_type": "code",
      "source": [
        "# Definir o total de testes COVID, agrupando por mês\n",
        "total_teste_covid_por_mes = teste_covid.groupBy('mes').count().withColumnRenamed('count', 'total_teste_covid')\n",
        "\n",
        "# Conta o total de pessoas que tiveram resultado positivo para cada tipo de teste, por mês\n",
        "total_swab_positivo_por_mes = teste_covid.filter((F.col('exame_swab') == 'Sim') &\n",
        "                                                 (F.col('resultado_swab') == 'Positivo')\n",
        "                                                ).groupBy('mes').count().withColumnRenamed('count', 'total_swab_positivo')\n",
        "\n",
        "total_dedo_positivo_por_mes = teste_covid.filter((F.col('exame_sangue_dedo') == 'Sim') &\n",
        "                                                 (F.col('resultado_sangue_dedo') == 'Positivo')\n",
        "                                                ).groupBy('mes').count().withColumnRenamed('count', 'total_dedo_positivo')\n",
        "\n",
        "total_sangue_braco_positivo_por_mes = teste_covid.filter((F.col('exame_sangue_braco') == 'Sim') &\n",
        "                                                         (F.col('resultado_sangue_braco') == 'Positivo')\n",
        "                                                        ).groupBy('mes').count().withColumnRenamed('count', 'total_sangue_braco_positivo')\n",
        "\n",
        "# Juntar os resultados de testes positivos com o total de testes COVID por mês\n",
        "df_resultado = total_teste_covid_por_mes \\\n",
        "                                      .join(total_swab_positivo_por_mes, 'mes', 'left') \\\n",
        "                                      .join(total_dedo_positivo_por_mes, 'mes', 'left') \\\n",
        "                                      .join(total_sangue_braco_positivo_por_mes, 'mes', 'left')\n",
        "\n",
        "# Calcula os percentuais de resultados positivos para cada tipo de teste\n",
        "df_resultado = df_resultado.withColumn(\n",
        "                                 'percentual_swab_positivo', F.round((F.col('total_swab_positivo') / F.col('total_teste_covid')) * 100, 2)\n",
        "                             ).withColumn(\n",
        "                                 'percentual_dedo_positivo', F.round((F.col('total_dedo_positivo') / F.col('total_teste_covid')) * 100, 2)\n",
        "                             ).withColumn(\n",
        "                                 'percentual_sangue_braco_positivo', F.round((F.col('total_sangue_braco_positivo') / F.col('total_teste_covid')) * 100, 2))\n",
        "\n",
        "\n",
        "df_resultado.select('mes', 'percentual_swab_positivo', 'percentual_dedo_positivo', 'percentual_sangue_braco_positivo').show(truncate=False)"
      ],
      "metadata": {
        "id": "agjD_uu9UPJk"
      },
      "execution_count": null,
      "outputs": []
    },
    {
      "cell_type": "markdown",
      "metadata": {
        "id": "2SPjndTWRF7o"
      },
      "source": [
        "# **Parte 2 - Resultado COVID de acordo com comportamento:**"
      ]
    },
    {
      "cell_type": "code",
      "source": [
        "teste_covid_realizado = teste_covid.filter(\n",
        "    (F.col('exame_swab') == 'Sim') |\n",
        "    (F.col('exame_sangue_dedo') == 'Sim') |\n",
        "    (F.col('exame_sangue_braco') == 'Sim')\n",
        ")\n",
        "\n",
        "# Agrupar por restricao_contato\n",
        "df_restricao_positivo = teste_covid_realizado.groupBy('restricao_contato').agg(F.count('*').alias('total_por_restricao'))\n",
        "\n",
        "# Contar o total de pessoas que realizaram teste\n",
        "total_realizado = teste_covid_realizado.count()\n",
        "\n",
        "# Calcular o percentual para cada restrição de contato\n",
        "df_percentuais_exames = df_restricao_positivo.withColumn('percentual',\n",
        "    F.format_number((F.col('total_por_restricao') / total_realizado) * 100, 2))\n",
        "\n",
        "df_percentuais_exames = df_percentuais_exames.orderBy(F.col('percentual').desc())\n",
        "df_percentuais_exames.show(truncate=False)"
      ],
      "metadata": {
        "id": "siiEBE0BKsJw"
      },
      "execution_count": null,
      "outputs": []
    },
    {
      "cell_type": "code",
      "execution_count": null,
      "metadata": {
        "id": "Nd0UMbKZQeqF"
      },
      "outputs": [],
      "source": [
        "teste_covid_positivo = teste_covid.filter(\n",
        "    (F.col('resultado_swab') == 'Positivo') |\n",
        "    (F.col('resultado_sangue_dedo') == 'Positivo') |\n",
        "    (F.col('resultado_sangue_braco') == 'Positivo')\n",
        ")\n",
        "\n",
        "# Agrupar por restricao_contato\n",
        "df_restricao_positivo = teste_covid_positivo.groupBy('restricao_contato').agg(F.count('*').alias('total_por_restricao'))\n",
        "\n",
        "# Contar o total de pessoas que testaram positivo\n",
        "total_positivo = teste_covid_positivo.count()\n",
        "\n",
        "# Calcular o percentual para cada restrição de contato\n",
        "df_percentuais_positivo = df_restricao_positivo.withColumn('percentual',\n",
        "    F.format_number((F.col('total_por_restricao') / total_positivo) * 100, 2))\n",
        "\n",
        "df_percentuais_positivo = df_percentuais_positivo.orderBy(F.col('percentual').desc())\n",
        "df_percentuais_positivo.show(truncate=False)"
      ]
    },
    {
      "cell_type": "markdown",
      "metadata": {
        "id": "fBEiJZBWJJjO"
      },
      "source": [
        "# **Parte 2 - Sintomas Clinicos de quem testou positivo**"
      ]
    },
    {
      "cell_type": "code",
      "source": [
        "from pyspark.sql import functions as F\n",
        "\n",
        "# Agrupa por mês e calcular o total de pessoas que fizeram teste de COVID\n",
        "total_teste_covid_por_mes = teste_covid.groupBy('mes').count().withColumnRenamed('count', 'total_teste_covid')\n",
        "\n",
        "# Conta o total de pessoas que tiveram resultado positivo para cada tipo de teste por mês\n",
        "total_swab_positivo_por_mes = teste_covid.filter(\n",
        "    (F.col('exame_swab') == 'Sim') & (F.col('resultado_swab') == 'Positivo')\n",
        ").groupBy('mes').count().withColumnRenamed('count', 'total_swab_positivo')\n",
        "\n",
        "total_dedo_positivo_por_mes = teste_covid.filter(\n",
        "    (F.col('exame_sangue_dedo') == 'Sim') & (F.col('resultado_sangue_dedo') == 'Positivo')\n",
        ").groupBy('mes').count().withColumnRenamed('count', 'total_dedo_positivo')\n",
        "\n",
        "total_sangue_braco_positivo_por_mes = teste_covid.filter(\n",
        "    (F.col('exame_sangue_braco') == 'Sim') & (F.col('resultado_sangue_braco') == 'Positivo')\n",
        ").groupBy('mes').count().withColumnRenamed('count', 'total_sangue_braco_positivo')\n",
        "\n",
        "# Junta os resultados com o total de testes por mês\n",
        "df_resultado = total_teste_covid_por_mes \\\n",
        "    .join(total_swab_positivo_por_mes, 'mes', 'left') \\\n",
        "    .join(total_dedo_positivo_por_mes, 'mes', 'left') \\\n",
        "    .join(total_sangue_braco_positivo_por_mes, 'mes', 'left')\n",
        "\n",
        "# Calcula os percentuais de resultados positivos para cada tipo de teste\n",
        "df_resultado = df_resultado.withColumn(\n",
        "                                'percentual_swab_positivo', F.round((F.col('total_swab_positivo') / F.col('total_teste_covid')) * 100, 2)\n",
        "                            ).withColumn(\n",
        "                                'percentual_dedo_positivo', F.round((F.col('total_dedo_positivo') / F.col('total_teste_covid')) * 100, 2)\n",
        "                            ).withColumn(\n",
        "                                'percentual_sangue_braco_positivo', F.round((F.col('total_sangue_braco_positivo') / F.col('total_teste_covid')) * 100, 2))\n",
        "\n",
        "df_resultado.select('mes', 'percentual_swab_positivo', 'percentual_dedo_positivo', 'percentual_sangue_braco_positivo').show(truncate=False)"
      ],
      "metadata": {
        "id": "XwJJoZDUQq0u"
      },
      "execution_count": null,
      "outputs": []
    },
    {
      "cell_type": "markdown",
      "source": [
        "# **Parte 2 - Sintomas por Tipo de Teste**"
      ],
      "metadata": {
        "id": "LyIZVhkudp_v"
      }
    },
    {
      "cell_type": "code",
      "execution_count": null,
      "metadata": {
        "id": "gKXaOuGMIx7J"
      },
      "outputs": [],
      "source": [
        "resultados_mensais = {}\n",
        "\n",
        "# Para cada tipo de teste\n",
        "for tipo_teste, coluna_exame, coluna_resultado in [\n",
        "    ('SWAB', 'exame_swab', 'resultado_swab'),\n",
        "    ('Exame de Sangue Dedo', 'exame_sangue_dedo', 'resultado_sangue_dedo'),\n",
        "    ('Exame de Sangue Padrão', 'exame_sangue_braco', 'resultado_sangue_braco'),\n",
        "]:\n",
        "    # Filtra para quem teve resultado positivo para o teste\n",
        "    teste_positivo = teste_covid.filter((F.col(coluna_exame) == 'Sim') & (F.col(coluna_resultado) == 'Positivo'))\n",
        "\n",
        "    # Agrupa por mês e calcula os totais\n",
        "    total_por_mes = teste_positivo.groupBy('mes').count().withColumnRenamed('count', 'total_positivo')\n",
        "\n",
        "    # Para cada mês calcula os sintomas\n",
        "    for row in total_por_mes.collect():\n",
        "        mes = row['mes']\n",
        "        total_positivo = row['total_positivo']\n",
        "\n",
        "        teste_positivo_mes = teste_positivo.filter(F.col('mes') == mes)\n",
        "\n",
        "        if total_positivo > 0:\n",
        "            total_perda_olfato = teste_positivo_mes.filter(F.col('perda_olfato_paladar') == 'Sim').count()\n",
        "            percentual_perda_olfato = (total_perda_olfato / total_positivo) * 100\n",
        "\n",
        "            total_dificuldade_respiracao = teste_positivo_mes.filter(F.col('dificuldade_respiracao') == 'Sim').count()\n",
        "            percentual_dificuldade_respiracao = (total_dificuldade_respiracao / total_positivo) * 100\n",
        "\n",
        "            total_tosse = teste_positivo_mes.filter(F.col('tosse') == 'Sim').count()\n",
        "            percentual_tosse = (total_tosse / total_positivo) * 100\n",
        "        else:\n",
        "            percentual_perda_olfato = 0\n",
        "            percentual_dificuldade_respiracao = 0\n",
        "            percentual_tosse = 0\n",
        "\n",
        "        if mes not in resultados_mensais:\n",
        "            resultados_mensais[mes] = {}\n",
        "\n",
        "        resultados_mensais[mes][tipo_teste] = {\n",
        "            'percentual_perda_olfato': percentual_perda_olfato,\n",
        "            'percentual_dificuldade_respiracao': percentual_dificuldade_respiracao,\n",
        "            'percentual_tosse': percentual_tosse\n",
        "        }\n",
        "\n",
        "for mes, resultados_mes in resultados_mensais.items():\n",
        "    print(f\"Resultados para o mês {mes}:\")\n",
        "    for tipo_teste, percentuais in resultados_mes.items():\n",
        "        print(f\"Teste {tipo_teste}:\")\n",
        "        print(f\" % com perda de olfato/paladar: {percentuais['percentual_perda_olfato']:.2f}%\")\n",
        "        print(f\" % com dificuldade de respiração: {percentuais['percentual_dificuldade_respiracao']:.2f}%\")\n",
        "        print(f\" % com tosse: {percentuais['percentual_tosse']:.2f}%\")"
      ]
    },
    {
      "cell_type": "markdown",
      "metadata": {
        "id": "3ZWDbBLJL0T_"
      },
      "source": [
        "# **Parte 2 - Internação dos casos Positivos**"
      ]
    },
    {
      "cell_type": "code",
      "execution_count": null,
      "metadata": {
        "id": "h418kDWiWP2c"
      },
      "outputs": [],
      "source": [
        "resultados_internamento = {}\n",
        "\n",
        "# Para cada tipo de teste\n",
        "for tipo_teste, coluna_exame, coluna_resultado in [\n",
        "    ('SWAB', 'exame_swab', 'resultado_swab'),\n",
        "    ('Exame de Sangue Dedo', 'exame_sangue_dedo', 'resultado_sangue_dedo'),\n",
        "    ('Exame de Sangue Padrão', 'exame_sangue_braco', 'resultado_sangue_braco'),\n",
        "]:\n",
        "\n",
        "    teste_positivo = teste_covid.filter((F.col(coluna_exame) == 'Sim') & (F.col(coluna_resultado) == 'Positivo'))\n",
        "    total_positivo = teste_positivo.count()\n",
        "\n",
        "    total_internados = teste_positivo.filter(F.col('internação') == 'Sim').count()\n",
        "\n",
        "    if total_positivo > 0:\n",
        "        percentual_internados = (total_internados / total_positivo) * 100\n",
        "    else:\n",
        "        percentual_internados = 0\n",
        "\n",
        "    resultados_internamento[tipo_teste] = percentual_internados\n",
        "\n",
        "for tipo_teste, percentual in resultados_internamento.items():\n",
        "    print(f\"% de quem ficou internado com COVID-19 realizando o teste: {tipo_teste}: {percentual:.2f}%\")"
      ]
    },
    {
      "cell_type": "code",
      "execution_count": null,
      "metadata": {
        "id": "hHhiIeXc1ltg"
      },
      "outputs": [],
      "source": [
        "total_internados = teste_positivo.filter(F.col('internação') == 'Sim').count()\n",
        "total_positivo = teste_positivo.count()\n",
        "percentual_internados = (total_internados / total_positivo) * 100 if total_positivo > 0 else 0\n",
        "print(f\"% de internados com casos positivos: {percentual_internados:.2f}%\")"
      ]
    },
    {
      "cell_type": "markdown",
      "source": [
        "# **Parte 2 - Média de Idade por Internação**"
      ],
      "metadata": {
        "id": "17JxkfC7cKiy"
      }
    },
    {
      "cell_type": "code",
      "execution_count": null,
      "metadata": {
        "id": "xONZqlPLrrMo"
      },
      "outputs": [],
      "source": [
        "internados_idade = teste_positivo.filter(F.col('internação') == 'Sim')\n",
        "media_idade = internados_idade.agg(\n",
        "    F.round(F.avg(F.when(F.col('exame_swab') == 'Sim', F.col('idade'))), 0).alias('Média de Idade (SWAB)'),\n",
        "    F.round(F.avg(F.when(F.col('exame_sangue_dedo') == 'Sim', F.col('idade'))), 0).alias('Média de Idade (Exame de Dedo)'),\n",
        "    F.round(F.avg(F.when(F.col('exame_sangue_braco') == 'Sim', F.col('idade'))), 0).alias('Média de Idade (Exame de Sangue Padrão)'))\n",
        "\n",
        "media_idade.show()"
      ]
    },
    {
      "cell_type": "code",
      "source": [
        "import matplotlib.pyplot as plt\n",
        "!pip install pyspark\n",
        "import pyspark.sql.functions as F\n",
        "\n",
        "# Calcular a média de idade dos internados por tipo de exame\n",
        "media_idade = internados_idade.agg(\n",
        "    F.round(F.avg(F.when(F.col('exame_swab') == 'Sim', F.col('idade'))), 0).alias('Média de Idade (SWAB)'),\n",
        "    F.round(F.avg(F.when(F.col('exame_sangue_dedo') == 'Sim', F.col('idade'))), 0).alias('Média de Idade (Exame de Dedo)'),\n",
        "    F.round(F.avg(F.when(F.col('exame_sangue_braco') == 'Sim', F.col('idade'))), 0).alias('Média de Idade (Exame de Sangue Padrão)')\n",
        ")\n",
        "\n",
        "# Coletar os dados calculados em um dicionário\n",
        "media_idade_dados = media_idade.collect()[0].asDict()\n",
        "\n",
        "# Extraindo os dados\n",
        "tipos_exames = list(media_idade_dados.keys())\n",
        "medias_idade = list(media_idade_dados.values())\n",
        "\n",
        "# Configurações de estilo\n",
        "plt.style.use('seaborn-darkgrid')\n",
        "plt.figure(figsize=(10, 6))\n",
        "\n",
        "# Criando o gráfico de barras\n",
        "bars = plt.bar(tipos_exames, medias_idade, color=['#4e79a7', '#f28e2b', '#76b7b2'], edgecolor='black')\n",
        "\n",
        "# Título e labels\n",
        "plt.title('Média de Idade dos Pacientes Internados por Tipo de Exame', fontsize=16, fontweight='bold')\n",
        "plt.xlabel('Tipo de Exame', fontsize=14)\n",
        "plt.ylabel('Média de Idade', fontsize=14)\n",
        "\n",
        "# Adicionando os rótulos de dados acima das barras\n",
        "for bar in bars:\n",
        "    yval = bar.get_height()\n",
        "    plt.text(bar.get_x() + bar.get_width()/2, yval + 0.3, int(yval), ha='center', fontsize=12, fontweight='bold')\n",
        "\n",
        "# Ajustando limites e visualização\n",
        "plt.ylim(0, max(medias_idade) + 5)\n",
        "plt.xticks(fontsize=12)\n",
        "plt.yticks(fontsize=12)\n",
        "\n",
        "# Exibir o gráfico\n",
        "plt.show()\n"
      ],
      "metadata": {
        "id": "gPPPSNzD21jh"
      },
      "execution_count": null,
      "outputs": []
    },
    {
      "cell_type": "markdown",
      "metadata": {
        "id": "hHa1XzhlUMNz"
      },
      "source": [
        "A média de idade das pessoas que testaram positivo para o teste de swab, sangue dedo e braço respectivamente foi de 49, 53 e 47 anos. Quando olhamos para as pessoas que testaram positivo e ficaram internados a média fica de 60, 60 e 57 anos."
      ]
    },
    {
      "cell_type": "markdown",
      "metadata": {
        "id": "ZHrjJjJd-IMP"
      },
      "source": [
        "# **Analises**"
      ]
    },
    {
      "cell_type": "markdown",
      "metadata": {
        "id": "AF7rfxZQ-TDz"
      },
      "source": [
        "**Preparação do Hospital para Futuras Crises Sanitárias: Análise da População Urbana em Minas Gerais**\n",
        "\n",
        "Para construção dessa análise partimos da perspectiva de um hospital público localizado na cidade de São Paulo que opera no regime 100% SUS. Como instituição, buscamos observar os dados com objetivo de que em caso de uma nova pandemia de um vírus com características semelhantes a COVID-19 o hospital possa estar preparado a nível operacional para enfrentar essa situação. Frente a situações ocorridas, como no caso de Manaus , entendemos que o preparo operacional é fundamental para que o hospital consiga garantir uma capacidade de resposta eficiente e segura. A experiência adquirida durante a pandemia de COVID-19 destacou a importância de que medidas rápidas e integradas, tanto na gestão de recursos de saúde quanto no atendimento à população sejam pensadas de forma preventiva.\n",
        "\n",
        "Para construir uma visão abrangente e integrada do cenário da pandemia em seus aspectos sociais,sintomatológicos e financeiros fizemos o uso da base de dados PNAD COVID-2019 a base disponibiliza os dados de pesquisas realizadas no ano de 2020 entre os meses de Maio e Novembro. Os meses selecionados para análise foram de Julho, Agosto e Setembro, a escolha desse período se deu por serem os meses mais iniciais da pandemia onde já haviam testes, assim foi possível filtrar os dados pelos seus resultados fazendo uma análise mais assertiva sobre as características dos grupos. Também foram selecionados 20 itens que fazem parte do questionário realizado na pesquisa que servem de forma concisa ao nosso objetivo(citar código com as perguntas).\n",
        "\n",
        "A partir da filtragem dos dados, analisamos o estado com maior participação nas entrevistas, que foi Minas Gerais, verificamos que 74% da população era urbana e que dessas apenas 34% tem plano de saúde. A fim de entender melhor a situação econômica, buscamos analisar a situação domiciliar desses entrevistados, que por maioria têm imóvel próprio já pago, a situação de trabalho não pode ser verificada já que 96% dos casos não eram aplicáveis.  Desses, 61% buscou serviços de saúde, sejam eles públicos ou privados. É importante ressaltar que 34% da população urbana possui plano de saúde, enquanto mais de 60% tem imóvel próprio. Destes, 8,25% ainda estão pagando e 18,55% pagam aluguel. Em uma possível crise imobiliária durante uma pandemia, sendo importante a implementação de políticas públicas que visem proteger essas famílias vulneráveis, garantindo acesso a habitação e evitando a perda de moradia, o que poderia aumentar a disseminação do vírus em abrigos ou casas compartilhadas.\n",
        "\n",
        "Em relação ao diagnóstico da COVID-19, observamos que 59,49% da população realizou o teste SWAB, com uma taxa de resultados positivos de 29,11%. Além disso, 30,38% fez o teste de dedo, com 8,02% de positivos, e 29,11% realizou o teste de sangue no braço, com uma taxa de 9,28% de resultados positivos. Os sintomas mais comuns identificados foram:\n",
        "\n",
        "Para o teste SWAB:\n",
        "59,42% relataram perda de olfato/paladar\n",
        "46,38% tiveram dificuldade de respiração\n",
        "68,12% apresentaram tosse\n",
        "\n",
        " Para o teste de dedo:\n",
        "42,11% relataram perda de olfato/paladar\n",
        "52,63% tiveram dificuldade de respiração\n",
        "63,16% apresentaram tosse\n",
        "\n",
        "Para o teste de sangue no braço:\n",
        "54,55% relataram perda de olfato/paladar\n",
        "45,45% tiveram dificuldade de respiração\n",
        "63,64% apresentaram tosse\n",
        "\n",
        "Esses dados reforçam a necessidade de uma infraestrutura robusta e fluxos de atendimento otimizados.** A taxa de internação devido à COVID-19 também merece atenção, sendo que 31,8% do que testaram positivo passaram por internação, desses: 23,19% realizaram o teste SWAB, 42,11% teste de sangue no dedo e 31,82% teste de sangue padrão. Dentro da amostra observada a média de idade dos que testaram positivo foi de 49,53 e 47 anos para os testes de swab, sangue dedo e sangue padrão respectivamente. Porém quando observamos a idade média dos internados é de 60 anos e 57 para exame de sangue padrão destacando a importância de priorizar o acesso a testes e atendimento para pessoas nessa faixa que apresentem os sintomas característicos.\n",
        "\n",
        "Durante a pandemia, as restrições de contato variaram entre a população. Cerca de 41,47% ficou em casa e saiu apenas para necessidades básicas, 37,61% reduziu o contato, mas continuou saindo para trabalho ou atividades não essenciais, enquanto 18,37% ficou rigorosamente em casa. Somente 2,29% da população não fez restrições, levando uma vida normal.\n",
        "\n",
        "A participação em pesquisas públicas conduzidas por órgãos federais é essencial para mapear as características das novas ameaças à saúde pública, possibilitando uma resposta ainda mais eficaz e baseada em dados precisos. Nosso objetivo é fortalecer a infraestrutura do hospital, ampliar a capacidade de resposta e garantir que estejamos prontos para proteger a saúde da população, minimizando o impacto de futuras crises sanitárias. A colaboração entre o setor público e privado será crucial para garantir um atendimento de qualidade e acesso aos serviços de saúde para todos."
      ]
    },
    {
      "cell_type": "markdown",
      "source": [
        "# **Gráficos**"
      ],
      "metadata": {
        "id": "smUG2zLHIXb2"
      }
    },
    {
      "cell_type": "code",
      "source": [
        "# Converte o DataFrame PySpark para Pandas\n",
        "df_urbano_pandas = df_urbano.toPandas()"
      ],
      "metadata": {
        "id": "9pdwDP5pC40c"
      },
      "execution_count": null,
      "outputs": []
    },
    {
      "cell_type": "code",
      "source": [
        "# import de bibliotecas\n",
        "import matplotlib.pyplot as plt\n",
        "import seaborn as sns"
      ],
      "metadata": {
        "id": "uLj70qIeKK8-"
      },
      "execution_count": null,
      "outputs": []
    },
    {
      "cell_type": "code",
      "source": [
        "import matplotlib.pyplot as plt\n",
        "import seaborn as sns\n",
        "import pandas as pd\n",
        "\n",
        "# Contando as ocorrências de cada comportamento de isolamento\n",
        "contagem_restricao = df_urbano_pandas['restricao_contato'].value_counts().reset_index()\n",
        "contagem_restricao.columns = ['Comportamento', 'Total']\n",
        "\n",
        "# Ordenando os valores da maior para a menor\n",
        "contagem_restricao = contagem_restricao.sort_values(by='Total', ascending=False)\n",
        "\n",
        "# Criando o gráfico\n",
        "plt.figure(figsize=(10, 6))\n",
        "colors = sns.color_palette(\"husl\", len(contagem_restricao))  # Paleta de cores distinta\n",
        "\n",
        "# Gráfico de barras vertical\n",
        "bar_plot = sns.barplot(x='Comportamento', y='Total', data=contagem_restricao, palette=colors)\n",
        "\n",
        "# Adicionando os valores em cima das barras\n",
        "for p in bar_plot.patches:\n",
        "    bar_plot.annotate(f'{int(p.get_height())}',\n",
        "                      (p.get_x() + p.get_width() / 2, p.get_height()),\n",
        "                      ha='center', va='bottom', fontsize=12, color='black')\n",
        "\n",
        "plt.title('Total de Testes por Comportamento de Isolamento Social', fontsize=14)\n",
        "plt.ylabel('Total de Testes')\n",
        "plt.xlabel('Comportamento em Relação ao Isolamento Social')\n",
        "plt.xticks([])  # Remove os nomes das barras do eixo x\n",
        "plt.tight_layout()\n",
        "\n",
        "# Adicionando a legenda à direita do gráfico com mais espaço\n",
        "handles = [plt.Line2D([0], [0], color=color, lw=4) for color in colors]\n",
        "labels = contagem_restricao['Comportamento'].tolist()\n",
        "plt.figlegend(handles, labels, loc='upper right', ncol=1, bbox_to_anchor=(1.9, 1))\n",
        "\n",
        "# Exibindo o gráfico\n",
        "plt.show()\n"
      ],
      "metadata": {
        "colab": {
          "base_uri": "https://localhost:8080/",
          "height": 707
        },
        "id": "V9j22DupMS4f",
        "outputId": "7cb9236f-5a11-4e3f-d1ee-d336b4fb91da"
      },
      "execution_count": null,
      "outputs": [
        {
          "output_type": "stream",
          "name": "stderr",
          "text": [
            "<ipython-input-60-2c1e66b0d52a>:17: FutureWarning: \n",
            "\n",
            "Passing `palette` without assigning `hue` is deprecated and will be removed in v0.14.0. Assign the `x` variable to `hue` and set `legend=False` for the same effect.\n",
            "\n",
            "  bar_plot = sns.barplot(x='Comportamento', y='Total', data=contagem_restricao, palette=colors)\n"
          ]
        },
        {
          "output_type": "display_data",
          "data": {
            "text/plain": [
              "<Figure size 1000x600 with 1 Axes>"
            ],
            "image/png": "[encoded data removed]"
          },
          "metadata": {}
        }
      ]
    },
    {
      "cell_type": "code",
      "source": [
        "import matplotlib.pyplot as plt\n",
        "import seaborn as sns\n",
        "import pandas as pd\n",
        "\n",
        "# Agrupando e calculando a proporção de positivos por tipo de coleta\n",
        "df_testes_coleta = df_urbano_pandas[['exame_swab', 'resultado_swab', 'exame_sangue_dedo', 'resultado_sangue_dedo', 'exame_sangue_braco', 'resultado_sangue_braco']]\n",
        "\n",
        "# Contando resultados positivos e totais por cada tipo de teste\n",
        "total_swab = df_testes_coleta['exame_swab'].notnull().sum()\n",
        "positivos_swab = df_testes_coleta[df_testes_coleta['resultado_swab'] == 'Positivo'].shape[0]\n",
        "\n",
        "total_sangue_dedo = df_testes_coleta['exame_sangue_dedo'].notnull().sum()\n",
        "positivos_sangue_dedo = df_testes_coleta[df_testes_coleta['resultado_sangue_dedo'] == 'Positivo'].shape[0]\n",
        "\n",
        "total_sangue_braco = df_testes_coleta['exame_sangue_braco'].notnull().sum()\n",
        "positivos_sangue_braco = df_testes_coleta[df_testes_coleta['resultado_sangue_braco'] == 'Positivo'].shape[0]\n",
        "\n",
        "# Calculando a proporção em porcentagem\n",
        "proporcao_swab = (positivos_swab / total_swab * 100) if total_swab > 0 else 0\n",
        "proporcao_sangue_dedo = (positivos_sangue_dedo / total_sangue_dedo * 100) if total_sangue_dedo > 0 else 0\n",
        "proporcao_sangue_braco = (positivos_sangue_braco / total_sangue_braco * 100) if total_sangue_braco > 0 else 0\n",
        "\n",
        "# Criando um DataFrame para o gráfico\n",
        "data_testes = {\n",
        "    'Método de Coleta': ['SWAB', 'Sangue de Dedo', 'Sangue de Braço'],\n",
        "    'Proporção de Testes Positivos (%)': [proporcao_swab, proporcao_sangue_dedo, proporcao_sangue_braco]\n",
        "}\n",
        "df_testes = pd.DataFrame(data_testes)\n",
        "\n",
        "# Ordenando do maior para o menor\n",
        "df_testes = df_testes.sort_values(by='Proporção de Testes Positivos (%)', ascending=False)\n",
        "\n",
        "# Criando o gráfico de barras\n",
        "plt.figure(figsize=(10, 6))\n",
        "sns.barplot(x='Método de Coleta', y='Proporção de Testes Positivos (%)', data=df_testes, palette='Reds_d')\n",
        "\n",
        "plt.title('Proporção de Testes Positivos por Tipo de Coleta', fontsize=14)\n",
        "plt.ylabel('Proporção de Testes Positivos (%)')\n",
        "plt.xlabel('Método de Coleta')\n",
        "plt.ylim(0, 30)  # Ajustando o limite do eixo y\n",
        "plt.xticks(rotation=15)\n",
        "plt.tight_layout()\n",
        "\n",
        "# Exibindo o gráfico\n",
        "plt.show()"
      ],
      "metadata": {
        "colab": {
          "base_uri": "https://localhost:8080/",
          "height": 699
        },
        "id": "0muMuqiuLgeB",
        "outputId": "47a1bfd3-1a73-455c-e219-8bf1dc7ac036"
      },
      "execution_count": null,
      "outputs": [
        {
          "output_type": "stream",
          "name": "stderr",
          "text": [
            "<ipython-input-64-828b5999a6d3>:35: FutureWarning: \n",
            "\n",
            "Passing `palette` without assigning `hue` is deprecated and will be removed in v0.14.0. Assign the `x` variable to `hue` and set `legend=False` for the same effect.\n",
            "\n",
            "  sns.barplot(x='Método de Coleta', y='Proporção de Testes Positivos (%)', data=df_testes, palette='Reds_d')\n"
          ]
        },
        {
          "output_type": "display_data",
          "data": {
            "text/plain": [
              "<Figure size 1000x600 with 1 Axes>"
            ],
            "image/png": "[encoded data removed]"
          },
          "metadata": {}
        }
      ]
    },
    {
      "cell_type": "code",
      "source": [
        "import pandas as pd\n",
        "import matplotlib.pyplot as plt\n",
        "import seaborn as sns\n",
        "\n",
        "# Contagem de sintomas por método de teste\n",
        "sintomas_swab = df_urbano_pandas[df_urbano_pandas['exame_swab'] == 'Sim'][['dificuldade_respiracao', 'perda_olfato_paladar', 'tosse']].apply(pd.Series.value_counts).fillna(0)\n",
        "sintomas_dedo = df_urbano_pandas[df_urbano_pandas['exame_sangue_dedo'] == 'Sim'][['dificuldade_respiracao', 'perda_olfato_paladar', 'tosse']].apply(pd.Series.value_counts).fillna(0)\n",
        "sintomas_braco = df_urbano_pandas[df_urbano_pandas['exame_sangue_braco'] == 'Sim'][['dificuldade_respiracao', 'perda_olfato_paladar', 'tosse']].apply(pd.Series.value_counts).fillna(0)\n",
        "\n",
        "# Preparando os dados para os gráficos\n",
        "sintomas_swab = sintomas_swab.loc['Sim']\n",
        "sintomas_dedo = sintomas_dedo.loc['Sim']\n",
        "sintomas_braco = sintomas_braco.loc['Sim']\n",
        "\n",
        "# Contando o total de respostas 'Sim' para cada teste\n",
        "total_swab = df_urbano_pandas['exame_swab'].value_counts().get('Sim', 0)\n",
        "total_dedo = df_urbano_pandas['exame_sangue_dedo'].value_counts().get('Sim', 0)\n",
        "total_braco = df_urbano_pandas['exame_sangue_braco'].value_counts().get('Sim', 0)\n",
        "\n",
        "# Criando o gráfico\n",
        "fig, ax = plt.subplots(1, 3, figsize=(18, 6), sharey=True)\n",
        "\n",
        "# Gráfico para SWAB\n",
        "sns.barplot(x=sintomas_swab.index, y=sintomas_swab.values, ax=ax[0], color='#4CA1E0')\n",
        "ax[0].set_title(f'Sintomas por Teste SWAB (Total exames: {total_swab})')\n",
        "ax[0].set_xlabel('Sintomas')\n",
        "ax[0].set_ylabel('Número de Casos')\n",
        "for p in ax[0].patches:\n",
        "    ax[0].annotate(f'{int(p.get_height())}', (p.get_x() + p.get_width() / 2., p.get_height()),\n",
        "                   ha='center', va='bottom')\n",
        "\n",
        "# Gráfico para Sangue de Dedo\n",
        "sns.barplot(x=sintomas_dedo.index, y=sintomas_dedo.values, ax=ax[1], color='#4CA1E0')\n",
        "ax[1].set_title(f'Sintomas por Teste de Sangue (Dedo) (Total exames: {total_dedo})')\n",
        "ax[1].set_xlabel('Sintomas')\n",
        "for p in ax[1].patches:\n",
        "    ax[1].annotate(f'{int(p.get_height())}', (p.get_x() + p.get_width() / 2., p.get_height()),\n",
        "                   ha='center', va='bottom')\n",
        "\n",
        "# Gráfico para Sangue de Braço\n",
        "sns.barplot(x=sintomas_braco.index, y=sintomas_braco.values, ax=ax[2], color='#4CA1E0')\n",
        "ax[2].set_title(f'Sintomas por Teste de Sangue (Braço) (Total exames: {total_braco})')\n",
        "ax[2].set_xlabel('Sintomas')\n",
        "for p in ax[2].patches:\n",
        "    ax[2].annotate(f'{int(p.get_height())}', (p.get_x() + p.get_width() / 2., p.get_height()),\n",
        "                   ha='center', va='bottom')\n",
        "\n",
        "plt.tight_layout()\n",
        "plt.show()"
      ],
      "metadata": {
        "colab": {
          "base_uri": "https://localhost:8080/",
          "height": 607
        },
        "id": "CgV-ocV5RyR6",
        "outputId": "310f40fa-9005-4802-8098-6a36e5707496"
      },
      "execution_count": null,
      "outputs": [
        {
          "output_type": "display_data",
          "data": {
            "text/plain": [
              "<Figure size 1800x600 with 3 Axes>"
            ],
            "image/png": "[encoded data removed]"
          },
          "metadata": {}
        }
      ]
    },
    {
      "cell_type": "code",
      "source": [
        "import pandas as pd\n",
        "import matplotlib.pyplot as plt\n",
        "import seaborn as sns\n",
        "\n",
        "# Contando internações por tipo de teste positivo\n",
        "internacoes_swab = df_urbano_pandas[(df_urbano_pandas['resultado_swab'] == 'Positivo') & (df_urbano_pandas['internação'] == 'Sim')].shape[0]\n",
        "internacoes_sangue_dedo = df_urbano_pandas[(df_urbano_pandas['resultado_sangue_dedo'] == 'Positivo') & (df_urbano_pandas['internação'] == 'Sim')].shape[0]\n",
        "internacoes_sangue_braco = df_urbano_pandas[(df_urbano_pandas['resultado_sangue_braco'] == 'Positivo') & (df_urbano_pandas['internação'] == 'Sim')].shape[0]\n",
        "\n",
        "# Contando o total de resultados positivos para cada tipo de teste\n",
        "total_swab = df_urbano_pandas['resultado_swab'].value_counts().get('Positivo', 0)\n",
        "total_dedo = df_urbano_pandas['resultado_sangue_dedo'].value_counts().get('Positivo', 0)\n",
        "total_braco = df_urbano_pandas['resultado_sangue_braco'].value_counts().get('Positivo', 0)\n",
        "\n",
        "# Calculando a proporção de internações\n",
        "proporcao_internacoes = [\n",
        "    (internacoes_swab / total_swab * 100) if total_swab > 0 else 0,\n",
        "    (internacoes_sangue_dedo / total_dedo * 100) if total_dedo > 0 else 0,\n",
        "    (internacoes_sangue_braco / total_braco * 100) if total_braco > 0 else 0\n",
        "]\n",
        "\n",
        "# Criando o dataframe para o gráfico\n",
        "data_internacoes = {\n",
        "    'Método de Coleta': ['SWAB', 'Sangue de Dedo', 'Sangue de Braço'],\n",
        "    'Proporção de Internações (%)': proporcao_internacoes\n",
        "}\n",
        "\n",
        "df_internacoes = pd.DataFrame(data_internacoes)\n",
        "\n",
        "# Criando o gráfico de barras\n",
        "plt.figure(figsize=(10, 6))\n",
        "bars = sns.barplot(x='Método de Coleta', y='Proporção de Internações (%)', data=df_internacoes, palette='Purples_d')\n",
        "\n",
        "plt.title('Proporção de Internações por Tipo de Coleta (Testes Positivos)', fontsize=14)\n",
        "plt.ylabel('Proporção de Internações (%)')\n",
        "plt.xlabel('Método de Coleta')\n",
        "\n",
        "# Exibindo os números dentro das barras\n",
        "for index, value in enumerate(proporcao_internacoes):\n",
        "    bars.text(index, value / 2, f'{value:.2f}%', ha='center', va='center', fontsize=24, color='white')\n",
        "\n",
        "plt.tight_layout()\n",
        "plt.show()"
      ],
      "metadata": {
        "colab": {
          "base_uri": "https://localhost:8080/",
          "height": 699
        },
        "id": "Z1NCUxSYL7eB",
        "outputId": "9882cd75-e75e-46ac-821c-49cbe03cc5ea"
      },
      "execution_count": null,
      "outputs": [
        {
          "output_type": "stream",
          "name": "stderr",
          "text": [
            "<ipython-input-83-26ea7e6af390>:32: FutureWarning: \n",
            "\n",
            "Passing `palette` without assigning `hue` is deprecated and will be removed in v0.14.0. Assign the `x` variable to `hue` and set `legend=False` for the same effect.\n",
            "\n",
            "  bars = sns.barplot(x='Método de Coleta', y='Proporção de Internações (%)', data=df_internacoes, palette='Purples_d')\n"
          ]
        },
        {
          "output_type": "display_data",
          "data": {
            "text/plain": [
              "<Figure size 1000x600 with 1 Axes>"
            ],
            "image/png": "[encoded data removed]"
          },
          "metadata": {}
        }
      ]
    },
    {
      "cell_type": "code",
      "source": [
        "# Filtrar as colunas relevantes e remover as respostas 'Não aplicável' e 'Ignorado'\n",
        "filtered_df = df_urbano_pandas[\n",
        "    (df_urbano_pandas['pronto_socorro_pub'] != 'Não aplicável') &\n",
        "    (df_urbano_pandas['hospital_sus'] != 'Não aplicável') &\n",
        "    (df_urbano_pandas['pronto_socorro_priv'] != 'Não aplicável') &\n",
        "    (df_urbano_pandas['hospital_privado'] != 'Não aplicável') &\n",
        "    (df_urbano_pandas['pronto_socorro_pub'] != 'Ignorado') &\n",
        "    (df_urbano_pandas['hospital_sus'] != 'Ignorado') &\n",
        "    (df_urbano_pandas['pronto_socorro_priv'] != 'Ignorado') &\n",
        "    (df_urbano_pandas['hospital_privado'] != 'Ignorado')\n",
        "]\n",
        "\n",
        "# Contar o número total de respostas para cada categoria\n",
        "total_respostas = filtered_df[['pronto_socorro_pub', 'hospital_sus', 'pronto_socorro_priv', 'hospital_privado']].apply(pd.Series.value_counts).fillna(0)\n",
        "\n",
        "# Transpor o DataFrame para facilitar a plotagem\n",
        "total_respostas = total_respostas.T\n",
        "\n",
        "# Criar um dicionário de aliases\n",
        "aliases = {\n",
        "    'pronto_socorro_pub': 'PS Público',\n",
        "    'hospital_sus': 'Hospital SUS',\n",
        "    'pronto_socorro_priv': 'PS Privado',\n",
        "    'hospital_privado': 'Hospital Privado'\n",
        "}\n",
        "\n",
        "# Renomear os índices usando os aliases\n",
        "total_respostas.index = [aliases[col] for col in total_respostas.index]\n",
        "\n",
        "# Criar um gráfico de barras agrupadas\n",
        "plt.figure(figsize=(20, 8))  # Aumenta o tamanho do gráfico para ser mais largo\n",
        "ax = total_respostas.plot(kind='bar', width=0.8)\n",
        "\n",
        "# Adicionar os valores acima de cada barra com cor preta\n",
        "for p in ax.patches:\n",
        "    ax.annotate(f'{int(p.get_height())}', (p.get_x() + p.get_width() / 2., p.get_height()),\n",
        "                ha='center', va='bottom', fontsize=12, color='black', weight='bold')\n",
        "\n",
        "# Personalizar o gráfico\n",
        "plt.title('Número Total de Respostas por Tipo de Atendimento Hospitalar (Ignorando \"Não aplicável\" e \"Ignorado\")')\n",
        "plt.xlabel('Tipo de Atendimento')\n",
        "plt.ylabel('Número Total de Respostas')\n",
        "plt.xticks(rotation=30)\n",
        "plt.legend(title='Resposta', bbox_to_anchor=(1.05, 1), loc='upper left', fontsize=10)  # Reposiciona a legenda\n",
        "plt.tight_layout()\n",
        "\n",
        "# Exibir o gráfico\n",
        "plt.show()\n"
      ],
      "metadata": {
        "colab": {
          "base_uri": "https://localhost:8080/",
          "height": 505
        },
        "id": "pgT9dufYSuhQ",
        "outputId": "8d140e1e-6012-4e07-b0e5-28cc05dafeb7"
      },
      "execution_count": null,
      "outputs": [
        {
          "output_type": "display_data",
          "data": {
            "text/plain": [
              "<Figure size 2000x800 with 0 Axes>"
            ]
          },
          "metadata": {}
        },
        {
          "output_type": "display_data",
          "data": {
            "text/plain": [
              "<Figure size 640x480 with 1 Axes>"
            ],
            "image/png": "[encoded data removed]"
          },
          "metadata": {}
        }
      ]
    }
  ],
  "metadata": {
    "colab": {
      "collapsed_sections": [
        "T_T6jSjwKHt2",
        "ACPVh3N-nMr7",
        "yKpWuU683Glg",
        "T-KhqFBx6UiJ",
        "bxbsCfs_7qd1",
        "Hk_XyHfB7xXj",
        "3feiv_oa-ffU",
        "Gie1T9gz_USF",
        "Jpop-VDTBsOD",
        "AXXCj3wtD5h-",
        "MeZfCbmdEC0h",
        "KGdvz1_GEXDy",
        "AMc-64iDSw05",
        "fcxDE17nGlmF",
        "ETFEWi1bIL9z",
        "2SPjndTWRF7o",
        "fBEiJZBWJJjO",
        "LyIZVhkudp_v",
        "3ZWDbBLJL0T_",
        "17JxkfC7cKiy",
        "ZHrjJjJd-IMP",
        "smUG2zLHIXb2"
      ],
      "provenance": []
    },
    "kernelspec": {
      "display_name": "Python 3",
      "name": "python3"
    },
    "language_info": {
      "name": "python"
    }
  },
  "nbformat": 4,
  "nbformat_minor": 0
}